{
 "cells": [
  {
   "cell_type": "code",
   "execution_count": 1,
   "id": "1a8d4528",
   "metadata": {},
   "outputs": [],
   "source": [
    "import pandas as pd\n",
    "import numpy as np"
   ]
  },
  {
   "cell_type": "code",
   "execution_count": 2,
   "id": "e7751165",
   "metadata": {},
   "outputs": [
    {
     "data": {
      "text/html": [
       "<div>\n",
       "<style scoped>\n",
       "    .dataframe tbody tr th:only-of-type {\n",
       "        vertical-align: middle;\n",
       "    }\n",
       "\n",
       "    .dataframe tbody tr th {\n",
       "        vertical-align: top;\n",
       "    }\n",
       "\n",
       "    .dataframe thead th {\n",
       "        text-align: right;\n",
       "    }\n",
       "</style>\n",
       "<table border=\"1\" class=\"dataframe\">\n",
       "  <thead>\n",
       "    <tr style=\"text-align: right;\">\n",
       "      <th></th>\n",
       "      <th>Age</th>\n",
       "      <th>Duration</th>\n",
       "      <th>Frequency</th>\n",
       "      <th>Location</th>\n",
       "      <th>Character</th>\n",
       "      <th>Intensity</th>\n",
       "      <th>Nausea</th>\n",
       "      <th>Vomit</th>\n",
       "      <th>Phonophobia</th>\n",
       "      <th>Photophobia</th>\n",
       "      <th>...</th>\n",
       "      <th>Vertigo</th>\n",
       "      <th>Tinnitus</th>\n",
       "      <th>Hypoacusis</th>\n",
       "      <th>Diplopia</th>\n",
       "      <th>Defect</th>\n",
       "      <th>Ataxia</th>\n",
       "      <th>Conscience</th>\n",
       "      <th>Paresthesia</th>\n",
       "      <th>DPF</th>\n",
       "      <th>Type</th>\n",
       "    </tr>\n",
       "  </thead>\n",
       "  <tbody>\n",
       "    <tr>\n",
       "      <th>0</th>\n",
       "      <td>30</td>\n",
       "      <td>1</td>\n",
       "      <td>5</td>\n",
       "      <td>1</td>\n",
       "      <td>1</td>\n",
       "      <td>2</td>\n",
       "      <td>1</td>\n",
       "      <td>0</td>\n",
       "      <td>1</td>\n",
       "      <td>1</td>\n",
       "      <td>...</td>\n",
       "      <td>0</td>\n",
       "      <td>0</td>\n",
       "      <td>0</td>\n",
       "      <td>0</td>\n",
       "      <td>0</td>\n",
       "      <td>0</td>\n",
       "      <td>0</td>\n",
       "      <td>0</td>\n",
       "      <td>0</td>\n",
       "      <td>Typical aura with migraine</td>\n",
       "    </tr>\n",
       "    <tr>\n",
       "      <th>1</th>\n",
       "      <td>50</td>\n",
       "      <td>3</td>\n",
       "      <td>5</td>\n",
       "      <td>1</td>\n",
       "      <td>1</td>\n",
       "      <td>3</td>\n",
       "      <td>1</td>\n",
       "      <td>1</td>\n",
       "      <td>1</td>\n",
       "      <td>1</td>\n",
       "      <td>...</td>\n",
       "      <td>1</td>\n",
       "      <td>0</td>\n",
       "      <td>0</td>\n",
       "      <td>0</td>\n",
       "      <td>0</td>\n",
       "      <td>0</td>\n",
       "      <td>0</td>\n",
       "      <td>0</td>\n",
       "      <td>0</td>\n",
       "      <td>Typical aura with migraine</td>\n",
       "    </tr>\n",
       "    <tr>\n",
       "      <th>2</th>\n",
       "      <td>53</td>\n",
       "      <td>2</td>\n",
       "      <td>1</td>\n",
       "      <td>1</td>\n",
       "      <td>1</td>\n",
       "      <td>2</td>\n",
       "      <td>1</td>\n",
       "      <td>1</td>\n",
       "      <td>1</td>\n",
       "      <td>1</td>\n",
       "      <td>...</td>\n",
       "      <td>0</td>\n",
       "      <td>0</td>\n",
       "      <td>0</td>\n",
       "      <td>0</td>\n",
       "      <td>0</td>\n",
       "      <td>0</td>\n",
       "      <td>0</td>\n",
       "      <td>0</td>\n",
       "      <td>0</td>\n",
       "      <td>Typical aura with migraine</td>\n",
       "    </tr>\n",
       "    <tr>\n",
       "      <th>3</th>\n",
       "      <td>45</td>\n",
       "      <td>3</td>\n",
       "      <td>5</td>\n",
       "      <td>1</td>\n",
       "      <td>1</td>\n",
       "      <td>3</td>\n",
       "      <td>1</td>\n",
       "      <td>0</td>\n",
       "      <td>1</td>\n",
       "      <td>1</td>\n",
       "      <td>...</td>\n",
       "      <td>1</td>\n",
       "      <td>0</td>\n",
       "      <td>0</td>\n",
       "      <td>0</td>\n",
       "      <td>0</td>\n",
       "      <td>0</td>\n",
       "      <td>0</td>\n",
       "      <td>0</td>\n",
       "      <td>0</td>\n",
       "      <td>Typical aura with migraine</td>\n",
       "    </tr>\n",
       "    <tr>\n",
       "      <th>4</th>\n",
       "      <td>53</td>\n",
       "      <td>1</td>\n",
       "      <td>1</td>\n",
       "      <td>1</td>\n",
       "      <td>1</td>\n",
       "      <td>2</td>\n",
       "      <td>1</td>\n",
       "      <td>0</td>\n",
       "      <td>1</td>\n",
       "      <td>1</td>\n",
       "      <td>...</td>\n",
       "      <td>0</td>\n",
       "      <td>0</td>\n",
       "      <td>0</td>\n",
       "      <td>0</td>\n",
       "      <td>0</td>\n",
       "      <td>0</td>\n",
       "      <td>0</td>\n",
       "      <td>0</td>\n",
       "      <td>1</td>\n",
       "      <td>Typical aura with migraine</td>\n",
       "    </tr>\n",
       "  </tbody>\n",
       "</table>\n",
       "<p>5 rows × 24 columns</p>\n",
       "</div>"
      ],
      "text/plain": [
       "   Age  Duration  Frequency  Location  Character  Intensity  Nausea  Vomit  \\\n",
       "0   30         1          5         1          1          2       1      0   \n",
       "1   50         3          5         1          1          3       1      1   \n",
       "2   53         2          1         1          1          2       1      1   \n",
       "3   45         3          5         1          1          3       1      0   \n",
       "4   53         1          1         1          1          2       1      0   \n",
       "\n",
       "   Phonophobia  Photophobia  ...  Vertigo  Tinnitus  Hypoacusis  Diplopia  \\\n",
       "0            1            1  ...        0         0           0         0   \n",
       "1            1            1  ...        1         0           0         0   \n",
       "2            1            1  ...        0         0           0         0   \n",
       "3            1            1  ...        1         0           0         0   \n",
       "4            1            1  ...        0         0           0         0   \n",
       "\n",
       "   Defect  Ataxia  Conscience  Paresthesia  DPF                        Type  \n",
       "0       0       0           0            0    0  Typical aura with migraine  \n",
       "1       0       0           0            0    0  Typical aura with migraine  \n",
       "2       0       0           0            0    0  Typical aura with migraine  \n",
       "3       0       0           0            0    0  Typical aura with migraine  \n",
       "4       0       0           0            0    1  Typical aura with migraine  \n",
       "\n",
       "[5 rows x 24 columns]"
      ]
     },
     "execution_count": 2,
     "metadata": {},
     "output_type": "execute_result"
    }
   ],
   "source": [
    "data=pd.read_csv(r\"C:\\Users\\Admin\\Downloads\\data (1).csv\")\n",
    "data.head()"
   ]
  },
  {
   "cell_type": "code",
   "execution_count": 3,
   "id": "98261ce4",
   "metadata": {},
   "outputs": [
    {
     "data": {
      "text/plain": [
       "(400, 24)"
      ]
     },
     "execution_count": 3,
     "metadata": {},
     "output_type": "execute_result"
    }
   ],
   "source": [
    "data.shape"
   ]
  },
  {
   "cell_type": "code",
   "execution_count": 4,
   "id": "eb320634",
   "metadata": {},
   "outputs": [
    {
     "name": "stdout",
     "output_type": "stream",
     "text": [
      "<class 'pandas.core.frame.DataFrame'>\n",
      "RangeIndex: 400 entries, 0 to 399\n",
      "Data columns (total 24 columns):\n",
      " #   Column       Non-Null Count  Dtype \n",
      "---  ------       --------------  ----- \n",
      " 0   Age          400 non-null    int64 \n",
      " 1   Duration     400 non-null    int64 \n",
      " 2   Frequency    400 non-null    int64 \n",
      " 3   Location     400 non-null    int64 \n",
      " 4   Character    400 non-null    int64 \n",
      " 5   Intensity    400 non-null    int64 \n",
      " 6   Nausea       400 non-null    int64 \n",
      " 7   Vomit        400 non-null    int64 \n",
      " 8   Phonophobia  400 non-null    int64 \n",
      " 9   Photophobia  400 non-null    int64 \n",
      " 10  Visual       400 non-null    int64 \n",
      " 11  Sensory      400 non-null    int64 \n",
      " 12  Dysphasia    400 non-null    int64 \n",
      " 13  Dysarthria   400 non-null    int64 \n",
      " 14  Vertigo      400 non-null    int64 \n",
      " 15  Tinnitus     400 non-null    int64 \n",
      " 16  Hypoacusis   400 non-null    int64 \n",
      " 17  Diplopia     400 non-null    int64 \n",
      " 18  Defect       400 non-null    int64 \n",
      " 19  Ataxia       400 non-null    int64 \n",
      " 20  Conscience   400 non-null    int64 \n",
      " 21  Paresthesia  400 non-null    int64 \n",
      " 22  DPF          400 non-null    int64 \n",
      " 23  Type         400 non-null    object\n",
      "dtypes: int64(23), object(1)\n",
      "memory usage: 75.1+ KB\n"
     ]
    }
   ],
   "source": [
    "data.info()"
   ]
  },
  {
   "cell_type": "code",
   "execution_count": 5,
   "id": "8b56b26f",
   "metadata": {},
   "outputs": [
    {
     "data": {
      "text/html": [
       "<div>\n",
       "<style scoped>\n",
       "    .dataframe tbody tr th:only-of-type {\n",
       "        vertical-align: middle;\n",
       "    }\n",
       "\n",
       "    .dataframe tbody tr th {\n",
       "        vertical-align: top;\n",
       "    }\n",
       "\n",
       "    .dataframe thead th {\n",
       "        text-align: right;\n",
       "    }\n",
       "</style>\n",
       "<table border=\"1\" class=\"dataframe\">\n",
       "  <thead>\n",
       "    <tr style=\"text-align: right;\">\n",
       "      <th></th>\n",
       "      <th>Age</th>\n",
       "      <th>Duration</th>\n",
       "      <th>Frequency</th>\n",
       "      <th>Location</th>\n",
       "      <th>Character</th>\n",
       "      <th>Intensity</th>\n",
       "      <th>Nausea</th>\n",
       "      <th>Vomit</th>\n",
       "      <th>Phonophobia</th>\n",
       "      <th>Photophobia</th>\n",
       "      <th>...</th>\n",
       "      <th>Dysarthria</th>\n",
       "      <th>Vertigo</th>\n",
       "      <th>Tinnitus</th>\n",
       "      <th>Hypoacusis</th>\n",
       "      <th>Diplopia</th>\n",
       "      <th>Defect</th>\n",
       "      <th>Ataxia</th>\n",
       "      <th>Conscience</th>\n",
       "      <th>Paresthesia</th>\n",
       "      <th>DPF</th>\n",
       "    </tr>\n",
       "  </thead>\n",
       "  <tbody>\n",
       "    <tr>\n",
       "      <th>count</th>\n",
       "      <td>400.000000</td>\n",
       "      <td>400.000000</td>\n",
       "      <td>400.000000</td>\n",
       "      <td>400.000000</td>\n",
       "      <td>400.000000</td>\n",
       "      <td>400.00000</td>\n",
       "      <td>400.000000</td>\n",
       "      <td>400.000000</td>\n",
       "      <td>400.000000</td>\n",
       "      <td>400.000000</td>\n",
       "      <td>...</td>\n",
       "      <td>400.0000</td>\n",
       "      <td>400.000000</td>\n",
       "      <td>400.000000</td>\n",
       "      <td>400.000000</td>\n",
       "      <td>400.000000</td>\n",
       "      <td>400.000000</td>\n",
       "      <td>400.0</td>\n",
       "      <td>400.000000</td>\n",
       "      <td>400.000000</td>\n",
       "      <td>400.000000</td>\n",
       "    </tr>\n",
       "    <tr>\n",
       "      <th>mean</th>\n",
       "      <td>31.705000</td>\n",
       "      <td>1.610000</td>\n",
       "      <td>2.365000</td>\n",
       "      <td>0.972500</td>\n",
       "      <td>0.977500</td>\n",
       "      <td>2.47000</td>\n",
       "      <td>0.987500</td>\n",
       "      <td>0.322500</td>\n",
       "      <td>0.977500</td>\n",
       "      <td>0.980000</td>\n",
       "      <td>...</td>\n",
       "      <td>0.0025</td>\n",
       "      <td>0.125000</td>\n",
       "      <td>0.060000</td>\n",
       "      <td>0.015000</td>\n",
       "      <td>0.005000</td>\n",
       "      <td>0.015000</td>\n",
       "      <td>0.0</td>\n",
       "      <td>0.017500</td>\n",
       "      <td>0.007500</td>\n",
       "      <td>0.410000</td>\n",
       "    </tr>\n",
       "    <tr>\n",
       "      <th>std</th>\n",
       "      <td>12.139043</td>\n",
       "      <td>0.770964</td>\n",
       "      <td>1.675947</td>\n",
       "      <td>0.268186</td>\n",
       "      <td>0.277825</td>\n",
       "      <td>0.76849</td>\n",
       "      <td>0.111242</td>\n",
       "      <td>0.468019</td>\n",
       "      <td>0.148489</td>\n",
       "      <td>0.140175</td>\n",
       "      <td>...</td>\n",
       "      <td>0.0500</td>\n",
       "      <td>0.331133</td>\n",
       "      <td>0.237784</td>\n",
       "      <td>0.121705</td>\n",
       "      <td>0.070622</td>\n",
       "      <td>0.121705</td>\n",
       "      <td>0.0</td>\n",
       "      <td>0.131289</td>\n",
       "      <td>0.086385</td>\n",
       "      <td>0.492449</td>\n",
       "    </tr>\n",
       "    <tr>\n",
       "      <th>min</th>\n",
       "      <td>15.000000</td>\n",
       "      <td>1.000000</td>\n",
       "      <td>1.000000</td>\n",
       "      <td>0.000000</td>\n",
       "      <td>0.000000</td>\n",
       "      <td>0.00000</td>\n",
       "      <td>0.000000</td>\n",
       "      <td>0.000000</td>\n",
       "      <td>0.000000</td>\n",
       "      <td>0.000000</td>\n",
       "      <td>...</td>\n",
       "      <td>0.0000</td>\n",
       "      <td>0.000000</td>\n",
       "      <td>0.000000</td>\n",
       "      <td>0.000000</td>\n",
       "      <td>0.000000</td>\n",
       "      <td>0.000000</td>\n",
       "      <td>0.0</td>\n",
       "      <td>0.000000</td>\n",
       "      <td>0.000000</td>\n",
       "      <td>0.000000</td>\n",
       "    </tr>\n",
       "    <tr>\n",
       "      <th>25%</th>\n",
       "      <td>22.000000</td>\n",
       "      <td>1.000000</td>\n",
       "      <td>1.000000</td>\n",
       "      <td>1.000000</td>\n",
       "      <td>1.000000</td>\n",
       "      <td>2.00000</td>\n",
       "      <td>1.000000</td>\n",
       "      <td>0.000000</td>\n",
       "      <td>1.000000</td>\n",
       "      <td>1.000000</td>\n",
       "      <td>...</td>\n",
       "      <td>0.0000</td>\n",
       "      <td>0.000000</td>\n",
       "      <td>0.000000</td>\n",
       "      <td>0.000000</td>\n",
       "      <td>0.000000</td>\n",
       "      <td>0.000000</td>\n",
       "      <td>0.0</td>\n",
       "      <td>0.000000</td>\n",
       "      <td>0.000000</td>\n",
       "      <td>0.000000</td>\n",
       "    </tr>\n",
       "    <tr>\n",
       "      <th>50%</th>\n",
       "      <td>28.000000</td>\n",
       "      <td>1.000000</td>\n",
       "      <td>2.000000</td>\n",
       "      <td>1.000000</td>\n",
       "      <td>1.000000</td>\n",
       "      <td>3.00000</td>\n",
       "      <td>1.000000</td>\n",
       "      <td>0.000000</td>\n",
       "      <td>1.000000</td>\n",
       "      <td>1.000000</td>\n",
       "      <td>...</td>\n",
       "      <td>0.0000</td>\n",
       "      <td>0.000000</td>\n",
       "      <td>0.000000</td>\n",
       "      <td>0.000000</td>\n",
       "      <td>0.000000</td>\n",
       "      <td>0.000000</td>\n",
       "      <td>0.0</td>\n",
       "      <td>0.000000</td>\n",
       "      <td>0.000000</td>\n",
       "      <td>0.000000</td>\n",
       "    </tr>\n",
       "    <tr>\n",
       "      <th>75%</th>\n",
       "      <td>40.000000</td>\n",
       "      <td>2.000000</td>\n",
       "      <td>4.000000</td>\n",
       "      <td>1.000000</td>\n",
       "      <td>1.000000</td>\n",
       "      <td>3.00000</td>\n",
       "      <td>1.000000</td>\n",
       "      <td>1.000000</td>\n",
       "      <td>1.000000</td>\n",
       "      <td>1.000000</td>\n",
       "      <td>...</td>\n",
       "      <td>0.0000</td>\n",
       "      <td>0.000000</td>\n",
       "      <td>0.000000</td>\n",
       "      <td>0.000000</td>\n",
       "      <td>0.000000</td>\n",
       "      <td>0.000000</td>\n",
       "      <td>0.0</td>\n",
       "      <td>0.000000</td>\n",
       "      <td>0.000000</td>\n",
       "      <td>1.000000</td>\n",
       "    </tr>\n",
       "    <tr>\n",
       "      <th>max</th>\n",
       "      <td>77.000000</td>\n",
       "      <td>3.000000</td>\n",
       "      <td>8.000000</td>\n",
       "      <td>2.000000</td>\n",
       "      <td>2.000000</td>\n",
       "      <td>3.00000</td>\n",
       "      <td>1.000000</td>\n",
       "      <td>1.000000</td>\n",
       "      <td>1.000000</td>\n",
       "      <td>1.000000</td>\n",
       "      <td>...</td>\n",
       "      <td>1.0000</td>\n",
       "      <td>1.000000</td>\n",
       "      <td>1.000000</td>\n",
       "      <td>1.000000</td>\n",
       "      <td>1.000000</td>\n",
       "      <td>1.000000</td>\n",
       "      <td>0.0</td>\n",
       "      <td>1.000000</td>\n",
       "      <td>1.000000</td>\n",
       "      <td>1.000000</td>\n",
       "    </tr>\n",
       "  </tbody>\n",
       "</table>\n",
       "<p>8 rows × 23 columns</p>\n",
       "</div>"
      ],
      "text/plain": [
       "              Age    Duration   Frequency    Location   Character  Intensity  \\\n",
       "count  400.000000  400.000000  400.000000  400.000000  400.000000  400.00000   \n",
       "mean    31.705000    1.610000    2.365000    0.972500    0.977500    2.47000   \n",
       "std     12.139043    0.770964    1.675947    0.268186    0.277825    0.76849   \n",
       "min     15.000000    1.000000    1.000000    0.000000    0.000000    0.00000   \n",
       "25%     22.000000    1.000000    1.000000    1.000000    1.000000    2.00000   \n",
       "50%     28.000000    1.000000    2.000000    1.000000    1.000000    3.00000   \n",
       "75%     40.000000    2.000000    4.000000    1.000000    1.000000    3.00000   \n",
       "max     77.000000    3.000000    8.000000    2.000000    2.000000    3.00000   \n",
       "\n",
       "           Nausea       Vomit  Phonophobia  Photophobia  ...  Dysarthria  \\\n",
       "count  400.000000  400.000000   400.000000   400.000000  ...    400.0000   \n",
       "mean     0.987500    0.322500     0.977500     0.980000  ...      0.0025   \n",
       "std      0.111242    0.468019     0.148489     0.140175  ...      0.0500   \n",
       "min      0.000000    0.000000     0.000000     0.000000  ...      0.0000   \n",
       "25%      1.000000    0.000000     1.000000     1.000000  ...      0.0000   \n",
       "50%      1.000000    0.000000     1.000000     1.000000  ...      0.0000   \n",
       "75%      1.000000    1.000000     1.000000     1.000000  ...      0.0000   \n",
       "max      1.000000    1.000000     1.000000     1.000000  ...      1.0000   \n",
       "\n",
       "          Vertigo    Tinnitus  Hypoacusis    Diplopia      Defect  Ataxia  \\\n",
       "count  400.000000  400.000000  400.000000  400.000000  400.000000   400.0   \n",
       "mean     0.125000    0.060000    0.015000    0.005000    0.015000     0.0   \n",
       "std      0.331133    0.237784    0.121705    0.070622    0.121705     0.0   \n",
       "min      0.000000    0.000000    0.000000    0.000000    0.000000     0.0   \n",
       "25%      0.000000    0.000000    0.000000    0.000000    0.000000     0.0   \n",
       "50%      0.000000    0.000000    0.000000    0.000000    0.000000     0.0   \n",
       "75%      0.000000    0.000000    0.000000    0.000000    0.000000     0.0   \n",
       "max      1.000000    1.000000    1.000000    1.000000    1.000000     0.0   \n",
       "\n",
       "       Conscience  Paresthesia         DPF  \n",
       "count  400.000000   400.000000  400.000000  \n",
       "mean     0.017500     0.007500    0.410000  \n",
       "std      0.131289     0.086385    0.492449  \n",
       "min      0.000000     0.000000    0.000000  \n",
       "25%      0.000000     0.000000    0.000000  \n",
       "50%      0.000000     0.000000    0.000000  \n",
       "75%      0.000000     0.000000    1.000000  \n",
       "max      1.000000     1.000000    1.000000  \n",
       "\n",
       "[8 rows x 23 columns]"
      ]
     },
     "execution_count": 5,
     "metadata": {},
     "output_type": "execute_result"
    }
   ],
   "source": [
    "data.describe()"
   ]
  },
  {
   "cell_type": "code",
   "execution_count": 6,
   "id": "d335d390",
   "metadata": {},
   "outputs": [
    {
     "data": {
      "text/plain": [
       "Age            False\n",
       "Duration       False\n",
       "Frequency      False\n",
       "Location       False\n",
       "Character      False\n",
       "Intensity      False\n",
       "Nausea         False\n",
       "Vomit          False\n",
       "Phonophobia    False\n",
       "Photophobia    False\n",
       "Visual         False\n",
       "Sensory        False\n",
       "Dysphasia      False\n",
       "Dysarthria     False\n",
       "Vertigo        False\n",
       "Tinnitus       False\n",
       "Hypoacusis     False\n",
       "Diplopia       False\n",
       "Defect         False\n",
       "Ataxia         False\n",
       "Conscience     False\n",
       "Paresthesia    False\n",
       "DPF            False\n",
       "Type           False\n",
       "dtype: bool"
      ]
     },
     "execution_count": 6,
     "metadata": {},
     "output_type": "execute_result"
    }
   ],
   "source": [
    "data.isnull().any()"
   ]
  },
  {
   "cell_type": "code",
   "execution_count": 7,
   "id": "fa37fd7a",
   "metadata": {},
   "outputs": [
    {
     "data": {
      "text/plain": [
       "Index(['Age', 'Duration', 'Frequency', 'Location', 'Character', 'Intensity',\n",
       "       'Nausea', 'Vomit', 'Phonophobia', 'Photophobia', 'Visual', 'Sensory',\n",
       "       'Dysphasia', 'Dysarthria', 'Vertigo', 'Tinnitus', 'Hypoacusis',\n",
       "       'Diplopia', 'Defect', 'Ataxia', 'Conscience', 'Paresthesia', 'DPF',\n",
       "       'Type'],\n",
       "      dtype='object')"
      ]
     },
     "execution_count": 7,
     "metadata": {},
     "output_type": "execute_result"
    }
   ],
   "source": [
    "data.columns"
   ]
  },
  {
   "cell_type": "code",
   "execution_count": 8,
   "id": "5b6c618c",
   "metadata": {},
   "outputs": [
    {
     "data": {
      "text/html": [
       "<div>\n",
       "<style scoped>\n",
       "    .dataframe tbody tr th:only-of-type {\n",
       "        vertical-align: middle;\n",
       "    }\n",
       "\n",
       "    .dataframe tbody tr th {\n",
       "        vertical-align: top;\n",
       "    }\n",
       "\n",
       "    .dataframe thead th {\n",
       "        text-align: right;\n",
       "    }\n",
       "</style>\n",
       "<table border=\"1\" class=\"dataframe\">\n",
       "  <thead>\n",
       "    <tr style=\"text-align: right;\">\n",
       "      <th></th>\n",
       "      <th>Age</th>\n",
       "      <th>Duration</th>\n",
       "      <th>Frequency</th>\n",
       "      <th>Location</th>\n",
       "      <th>Character</th>\n",
       "      <th>Intensity</th>\n",
       "      <th>Nausea</th>\n",
       "      <th>Vomit</th>\n",
       "      <th>Phonophobia</th>\n",
       "      <th>Photophobia</th>\n",
       "      <th>...</th>\n",
       "      <th>Vertigo</th>\n",
       "      <th>Tinnitus</th>\n",
       "      <th>Hypoacusis</th>\n",
       "      <th>Diplopia</th>\n",
       "      <th>Defect</th>\n",
       "      <th>Ataxia</th>\n",
       "      <th>Conscience</th>\n",
       "      <th>Paresthesia</th>\n",
       "      <th>DPF</th>\n",
       "      <th>Type</th>\n",
       "    </tr>\n",
       "  </thead>\n",
       "  <tbody>\n",
       "    <tr>\n",
       "      <th>0</th>\n",
       "      <td>30</td>\n",
       "      <td>1</td>\n",
       "      <td>5</td>\n",
       "      <td>1</td>\n",
       "      <td>1</td>\n",
       "      <td>2</td>\n",
       "      <td>1</td>\n",
       "      <td>0</td>\n",
       "      <td>1</td>\n",
       "      <td>1</td>\n",
       "      <td>...</td>\n",
       "      <td>0</td>\n",
       "      <td>0</td>\n",
       "      <td>0</td>\n",
       "      <td>0</td>\n",
       "      <td>0</td>\n",
       "      <td>0</td>\n",
       "      <td>0</td>\n",
       "      <td>0</td>\n",
       "      <td>0</td>\n",
       "      <td>5</td>\n",
       "    </tr>\n",
       "    <tr>\n",
       "      <th>1</th>\n",
       "      <td>50</td>\n",
       "      <td>3</td>\n",
       "      <td>5</td>\n",
       "      <td>1</td>\n",
       "      <td>1</td>\n",
       "      <td>3</td>\n",
       "      <td>1</td>\n",
       "      <td>1</td>\n",
       "      <td>1</td>\n",
       "      <td>1</td>\n",
       "      <td>...</td>\n",
       "      <td>1</td>\n",
       "      <td>0</td>\n",
       "      <td>0</td>\n",
       "      <td>0</td>\n",
       "      <td>0</td>\n",
       "      <td>0</td>\n",
       "      <td>0</td>\n",
       "      <td>0</td>\n",
       "      <td>0</td>\n",
       "      <td>5</td>\n",
       "    </tr>\n",
       "  </tbody>\n",
       "</table>\n",
       "<p>2 rows × 24 columns</p>\n",
       "</div>"
      ],
      "text/plain": [
       "   Age  Duration  Frequency  Location  Character  Intensity  Nausea  Vomit  \\\n",
       "0   30         1          5         1          1          2       1      0   \n",
       "1   50         3          5         1          1          3       1      1   \n",
       "\n",
       "   Phonophobia  Photophobia  ...  Vertigo  Tinnitus  Hypoacusis  Diplopia  \\\n",
       "0            1            1  ...        0         0           0         0   \n",
       "1            1            1  ...        1         0           0         0   \n",
       "\n",
       "   Defect  Ataxia  Conscience  Paresthesia  DPF  Type  \n",
       "0       0       0           0            0    0     5  \n",
       "1       0       0           0            0    0     5  \n",
       "\n",
       "[2 rows x 24 columns]"
      ]
     },
     "execution_count": 8,
     "metadata": {},
     "output_type": "execute_result"
    }
   ],
   "source": [
    "##Label encoding for converting categorical data into numerical data\n",
    "from sklearn.preprocessing import LabelEncoder\n",
    "l1=LabelEncoder()\n",
    "data[\"Type\"]=l1.fit_transform(data[\"Type\"])\n",
    "data.head(2)"
   ]
  },
  {
   "cell_type": "code",
   "execution_count": 9,
   "id": "5e069031",
   "metadata": {},
   "outputs": [
    {
     "data": {
      "text/plain": [
       "Age            51\n",
       "Duration        3\n",
       "Frequency       8\n",
       "Location        3\n",
       "Character       3\n",
       "Intensity       4\n",
       "Nausea          2\n",
       "Vomit           2\n",
       "Phonophobia     2\n",
       "Photophobia     2\n",
       "Visual          5\n",
       "Sensory         3\n",
       "Dysphasia       2\n",
       "Dysarthria      2\n",
       "Vertigo         2\n",
       "Tinnitus        2\n",
       "Hypoacusis      2\n",
       "Diplopia        2\n",
       "Defect          2\n",
       "Ataxia          1\n",
       "Conscience      2\n",
       "Paresthesia     2\n",
       "DPF             2\n",
       "Type            7\n",
       "dtype: int64"
      ]
     },
     "execution_count": 9,
     "metadata": {},
     "output_type": "execute_result"
    }
   ],
   "source": [
    "data.nunique()\n",
    "\n"
   ]
  },
  {
   "cell_type": "code",
   "execution_count": 10,
   "id": "4a4d8a14",
   "metadata": {},
   "outputs": [
    {
     "data": {
      "text/plain": [
       "array([5, 2, 0, 4, 1, 3, 6])"
      ]
     },
     "execution_count": 10,
     "metadata": {},
     "output_type": "execute_result"
    }
   ],
   "source": [
    "#Classes of Dependent variable \n",
    "data[\"Type\"].unique()"
   ]
  },
  {
   "cell_type": "code",
   "execution_count": 11,
   "id": "7c04a0c5",
   "metadata": {},
   "outputs": [
    {
     "data": {
      "text/plain": [
       "6"
      ]
     },
     "execution_count": 11,
     "metadata": {},
     "output_type": "execute_result"
    }
   ],
   "source": [
    "##Detecting dublicate columns \n",
    "data.duplicated().sum()"
   ]
  },
  {
   "cell_type": "code",
   "execution_count": 12,
   "id": "df08ec67",
   "metadata": {},
   "outputs": [
    {
     "data": {
      "text/html": [
       "<div>\n",
       "<style scoped>\n",
       "    .dataframe tbody tr th:only-of-type {\n",
       "        vertical-align: middle;\n",
       "    }\n",
       "\n",
       "    .dataframe tbody tr th {\n",
       "        vertical-align: top;\n",
       "    }\n",
       "\n",
       "    .dataframe thead th {\n",
       "        text-align: right;\n",
       "    }\n",
       "</style>\n",
       "<table border=\"1\" class=\"dataframe\">\n",
       "  <thead>\n",
       "    <tr style=\"text-align: right;\">\n",
       "      <th></th>\n",
       "      <th>Age</th>\n",
       "      <th>Duration</th>\n",
       "      <th>Frequency</th>\n",
       "      <th>Location</th>\n",
       "      <th>Character</th>\n",
       "      <th>Intensity</th>\n",
       "      <th>Nausea</th>\n",
       "      <th>Vomit</th>\n",
       "      <th>Phonophobia</th>\n",
       "      <th>Photophobia</th>\n",
       "      <th>...</th>\n",
       "      <th>Vertigo</th>\n",
       "      <th>Tinnitus</th>\n",
       "      <th>Hypoacusis</th>\n",
       "      <th>Diplopia</th>\n",
       "      <th>Defect</th>\n",
       "      <th>Ataxia</th>\n",
       "      <th>Conscience</th>\n",
       "      <th>Paresthesia</th>\n",
       "      <th>DPF</th>\n",
       "      <th>Type</th>\n",
       "    </tr>\n",
       "  </thead>\n",
       "  <tbody>\n",
       "    <tr>\n",
       "      <th>0</th>\n",
       "      <td>30</td>\n",
       "      <td>1</td>\n",
       "      <td>5</td>\n",
       "      <td>1</td>\n",
       "      <td>1</td>\n",
       "      <td>2</td>\n",
       "      <td>1</td>\n",
       "      <td>0</td>\n",
       "      <td>1</td>\n",
       "      <td>1</td>\n",
       "      <td>...</td>\n",
       "      <td>0</td>\n",
       "      <td>0</td>\n",
       "      <td>0</td>\n",
       "      <td>0</td>\n",
       "      <td>0</td>\n",
       "      <td>0</td>\n",
       "      <td>0</td>\n",
       "      <td>0</td>\n",
       "      <td>0</td>\n",
       "      <td>5</td>\n",
       "    </tr>\n",
       "    <tr>\n",
       "      <th>1</th>\n",
       "      <td>50</td>\n",
       "      <td>3</td>\n",
       "      <td>5</td>\n",
       "      <td>1</td>\n",
       "      <td>1</td>\n",
       "      <td>3</td>\n",
       "      <td>1</td>\n",
       "      <td>1</td>\n",
       "      <td>1</td>\n",
       "      <td>1</td>\n",
       "      <td>...</td>\n",
       "      <td>1</td>\n",
       "      <td>0</td>\n",
       "      <td>0</td>\n",
       "      <td>0</td>\n",
       "      <td>0</td>\n",
       "      <td>0</td>\n",
       "      <td>0</td>\n",
       "      <td>0</td>\n",
       "      <td>0</td>\n",
       "      <td>5</td>\n",
       "    </tr>\n",
       "    <tr>\n",
       "      <th>2</th>\n",
       "      <td>53</td>\n",
       "      <td>2</td>\n",
       "      <td>1</td>\n",
       "      <td>1</td>\n",
       "      <td>1</td>\n",
       "      <td>2</td>\n",
       "      <td>1</td>\n",
       "      <td>1</td>\n",
       "      <td>1</td>\n",
       "      <td>1</td>\n",
       "      <td>...</td>\n",
       "      <td>0</td>\n",
       "      <td>0</td>\n",
       "      <td>0</td>\n",
       "      <td>0</td>\n",
       "      <td>0</td>\n",
       "      <td>0</td>\n",
       "      <td>0</td>\n",
       "      <td>0</td>\n",
       "      <td>0</td>\n",
       "      <td>5</td>\n",
       "    </tr>\n",
       "    <tr>\n",
       "      <th>3</th>\n",
       "      <td>45</td>\n",
       "      <td>3</td>\n",
       "      <td>5</td>\n",
       "      <td>1</td>\n",
       "      <td>1</td>\n",
       "      <td>3</td>\n",
       "      <td>1</td>\n",
       "      <td>0</td>\n",
       "      <td>1</td>\n",
       "      <td>1</td>\n",
       "      <td>...</td>\n",
       "      <td>1</td>\n",
       "      <td>0</td>\n",
       "      <td>0</td>\n",
       "      <td>0</td>\n",
       "      <td>0</td>\n",
       "      <td>0</td>\n",
       "      <td>0</td>\n",
       "      <td>0</td>\n",
       "      <td>0</td>\n",
       "      <td>5</td>\n",
       "    </tr>\n",
       "    <tr>\n",
       "      <th>4</th>\n",
       "      <td>53</td>\n",
       "      <td>1</td>\n",
       "      <td>1</td>\n",
       "      <td>1</td>\n",
       "      <td>1</td>\n",
       "      <td>2</td>\n",
       "      <td>1</td>\n",
       "      <td>0</td>\n",
       "      <td>1</td>\n",
       "      <td>1</td>\n",
       "      <td>...</td>\n",
       "      <td>0</td>\n",
       "      <td>0</td>\n",
       "      <td>0</td>\n",
       "      <td>0</td>\n",
       "      <td>0</td>\n",
       "      <td>0</td>\n",
       "      <td>0</td>\n",
       "      <td>0</td>\n",
       "      <td>1</td>\n",
       "      <td>5</td>\n",
       "    </tr>\n",
       "    <tr>\n",
       "      <th>...</th>\n",
       "      <td>...</td>\n",
       "      <td>...</td>\n",
       "      <td>...</td>\n",
       "      <td>...</td>\n",
       "      <td>...</td>\n",
       "      <td>...</td>\n",
       "      <td>...</td>\n",
       "      <td>...</td>\n",
       "      <td>...</td>\n",
       "      <td>...</td>\n",
       "      <td>...</td>\n",
       "      <td>...</td>\n",
       "      <td>...</td>\n",
       "      <td>...</td>\n",
       "      <td>...</td>\n",
       "      <td>...</td>\n",
       "      <td>...</td>\n",
       "      <td>...</td>\n",
       "      <td>...</td>\n",
       "      <td>...</td>\n",
       "      <td>...</td>\n",
       "    </tr>\n",
       "    <tr>\n",
       "      <th>395</th>\n",
       "      <td>39</td>\n",
       "      <td>1</td>\n",
       "      <td>1</td>\n",
       "      <td>1</td>\n",
       "      <td>1</td>\n",
       "      <td>3</td>\n",
       "      <td>1</td>\n",
       "      <td>1</td>\n",
       "      <td>1</td>\n",
       "      <td>1</td>\n",
       "      <td>...</td>\n",
       "      <td>1</td>\n",
       "      <td>0</td>\n",
       "      <td>0</td>\n",
       "      <td>1</td>\n",
       "      <td>0</td>\n",
       "      <td>0</td>\n",
       "      <td>0</td>\n",
       "      <td>0</td>\n",
       "      <td>1</td>\n",
       "      <td>0</td>\n",
       "    </tr>\n",
       "    <tr>\n",
       "      <th>396</th>\n",
       "      <td>20</td>\n",
       "      <td>3</td>\n",
       "      <td>2</td>\n",
       "      <td>1</td>\n",
       "      <td>1</td>\n",
       "      <td>3</td>\n",
       "      <td>1</td>\n",
       "      <td>0</td>\n",
       "      <td>1</td>\n",
       "      <td>1</td>\n",
       "      <td>...</td>\n",
       "      <td>0</td>\n",
       "      <td>1</td>\n",
       "      <td>1</td>\n",
       "      <td>0</td>\n",
       "      <td>0</td>\n",
       "      <td>0</td>\n",
       "      <td>0</td>\n",
       "      <td>0</td>\n",
       "      <td>1</td>\n",
       "      <td>0</td>\n",
       "    </tr>\n",
       "    <tr>\n",
       "      <th>397</th>\n",
       "      <td>28</td>\n",
       "      <td>3</td>\n",
       "      <td>2</td>\n",
       "      <td>1</td>\n",
       "      <td>1</td>\n",
       "      <td>3</td>\n",
       "      <td>1</td>\n",
       "      <td>0</td>\n",
       "      <td>1</td>\n",
       "      <td>1</td>\n",
       "      <td>...</td>\n",
       "      <td>1</td>\n",
       "      <td>0</td>\n",
       "      <td>0</td>\n",
       "      <td>0</td>\n",
       "      <td>1</td>\n",
       "      <td>0</td>\n",
       "      <td>0</td>\n",
       "      <td>0</td>\n",
       "      <td>1</td>\n",
       "      <td>0</td>\n",
       "    </tr>\n",
       "    <tr>\n",
       "      <th>398</th>\n",
       "      <td>20</td>\n",
       "      <td>3</td>\n",
       "      <td>1</td>\n",
       "      <td>1</td>\n",
       "      <td>1</td>\n",
       "      <td>3</td>\n",
       "      <td>1</td>\n",
       "      <td>0</td>\n",
       "      <td>1</td>\n",
       "      <td>1</td>\n",
       "      <td>...</td>\n",
       "      <td>1</td>\n",
       "      <td>0</td>\n",
       "      <td>0</td>\n",
       "      <td>0</td>\n",
       "      <td>0</td>\n",
       "      <td>0</td>\n",
       "      <td>0</td>\n",
       "      <td>1</td>\n",
       "      <td>1</td>\n",
       "      <td>0</td>\n",
       "    </tr>\n",
       "    <tr>\n",
       "      <th>399</th>\n",
       "      <td>37</td>\n",
       "      <td>1</td>\n",
       "      <td>1</td>\n",
       "      <td>1</td>\n",
       "      <td>1</td>\n",
       "      <td>3</td>\n",
       "      <td>1</td>\n",
       "      <td>1</td>\n",
       "      <td>1</td>\n",
       "      <td>1</td>\n",
       "      <td>...</td>\n",
       "      <td>1</td>\n",
       "      <td>0</td>\n",
       "      <td>0</td>\n",
       "      <td>0</td>\n",
       "      <td>0</td>\n",
       "      <td>0</td>\n",
       "      <td>1</td>\n",
       "      <td>0</td>\n",
       "      <td>1</td>\n",
       "      <td>0</td>\n",
       "    </tr>\n",
       "  </tbody>\n",
       "</table>\n",
       "<p>394 rows × 24 columns</p>\n",
       "</div>"
      ],
      "text/plain": [
       "     Age  Duration  Frequency  Location  Character  Intensity  Nausea  Vomit  \\\n",
       "0     30         1          5         1          1          2       1      0   \n",
       "1     50         3          5         1          1          3       1      1   \n",
       "2     53         2          1         1          1          2       1      1   \n",
       "3     45         3          5         1          1          3       1      0   \n",
       "4     53         1          1         1          1          2       1      0   \n",
       "..   ...       ...        ...       ...        ...        ...     ...    ...   \n",
       "395   39         1          1         1          1          3       1      1   \n",
       "396   20         3          2         1          1          3       1      0   \n",
       "397   28         3          2         1          1          3       1      0   \n",
       "398   20         3          1         1          1          3       1      0   \n",
       "399   37         1          1         1          1          3       1      1   \n",
       "\n",
       "     Phonophobia  Photophobia  ...  Vertigo  Tinnitus  Hypoacusis  Diplopia  \\\n",
       "0              1            1  ...        0         0           0         0   \n",
       "1              1            1  ...        1         0           0         0   \n",
       "2              1            1  ...        0         0           0         0   \n",
       "3              1            1  ...        1         0           0         0   \n",
       "4              1            1  ...        0         0           0         0   \n",
       "..           ...          ...  ...      ...       ...         ...       ...   \n",
       "395            1            1  ...        1         0           0         1   \n",
       "396            1            1  ...        0         1           1         0   \n",
       "397            1            1  ...        1         0           0         0   \n",
       "398            1            1  ...        1         0           0         0   \n",
       "399            1            1  ...        1         0           0         0   \n",
       "\n",
       "     Defect  Ataxia  Conscience  Paresthesia  DPF  Type  \n",
       "0         0       0           0            0    0     5  \n",
       "1         0       0           0            0    0     5  \n",
       "2         0       0           0            0    0     5  \n",
       "3         0       0           0            0    0     5  \n",
       "4         0       0           0            0    1     5  \n",
       "..      ...     ...         ...          ...  ...   ...  \n",
       "395       0       0           0            0    1     0  \n",
       "396       0       0           0            0    1     0  \n",
       "397       1       0           0            0    1     0  \n",
       "398       0       0           0            1    1     0  \n",
       "399       0       0           1            0    1     0  \n",
       "\n",
       "[394 rows x 24 columns]"
      ]
     },
     "execution_count": 12,
     "metadata": {},
     "output_type": "execute_result"
    }
   ],
   "source": [
    "##Dropping dublicates\n",
    "data.drop_duplicates(keep='first',inplace=True)\n",
    "data"
   ]
  },
  {
   "cell_type": "markdown",
   "id": "a6d5acc3",
   "metadata": {},
   "source": [
    "# Data Visualization"
   ]
  },
  {
   "cell_type": "code",
   "execution_count": 13,
   "id": "6541f0f8",
   "metadata": {},
   "outputs": [
    {
     "name": "stderr",
     "output_type": "stream",
     "text": [
      "C:\\ProgramData\\Anaconda3\\lib\\site-packages\\seaborn\\_decorators.py:36: FutureWarning: Pass the following variable as a keyword arg: x. From version 0.12, the only valid positional argument will be `data`, and passing other arguments without an explicit keyword will result in an error or misinterpretation.\n",
      "  warnings.warn(\n"
     ]
    },
    {
     "data": {
      "text/plain": [
       "<AxesSubplot:ylabel='count'>"
      ]
     },
     "execution_count": 13,
     "metadata": {},
     "output_type": "execute_result"
    },
    {
     "data": {
      "image/png": "[encoded data removed]",
      "text/plain": [
       "<Figure size 432x288 with 1 Axes>"
      ]
     },
     "metadata": {
      "needs_background": "light"
     },
     "output_type": "display_data"
    }
   ],
   "source": [
    "## Data Visualization \n",
    "import seaborn as sns\n",
    "sns.countplot(data.dtypes.map(str))"
   ]
  },
  {
   "cell_type": "code",
   "execution_count": 14,
   "id": "f643d059",
   "metadata": {},
   "outputs": [
    {
     "name": "stderr",
     "output_type": "stream",
     "text": [
      "C:\\ProgramData\\Anaconda3\\lib\\site-packages\\seaborn\\_decorators.py:36: FutureWarning: Pass the following variable as a keyword arg: x. From version 0.12, the only valid positional argument will be `data`, and passing other arguments without an explicit keyword will result in an error or misinterpretation.\n",
      "  warnings.warn(\n"
     ]
    },
    {
     "data": {
      "text/plain": [
       "<AxesSubplot:xlabel='Type', ylabel='count'>"
      ]
     },
     "execution_count": 14,
     "metadata": {},
     "output_type": "execute_result"
    },
    {
     "data": {
      "image/png": "[encoded data removed]",
      "text/plain": [
       "<Figure size 432x288 with 1 Axes>"
      ]
     },
     "metadata": {
      "needs_background": "light"
     },
     "output_type": "display_data"
    }
   ],
   "source": [
    "sns.countplot(data[\"Type\"])  ## Check balancing of data\n"
   ]
  },
  {
   "cell_type": "code",
   "execution_count": 15,
   "id": "f9cbd095",
   "metadata": {},
   "outputs": [
    {
     "name": "stderr",
     "output_type": "stream",
     "text": [
      "C:\\ProgramData\\Anaconda3\\lib\\site-packages\\seaborn\\_decorators.py:36: FutureWarning: Pass the following variable as a keyword arg: x. From version 0.12, the only valid positional argument will be `data`, and passing other arguments without an explicit keyword will result in an error or misinterpretation.\n",
      "  warnings.warn(\n"
     ]
    },
    {
     "data": {
      "text/plain": [
       "<AxesSubplot:xlabel='Age', ylabel='count'>"
      ]
     },
     "execution_count": 15,
     "metadata": {},
     "output_type": "execute_result"
    },
    {
     "data": {
      "image/png": "[encoded data removed]",
      "text/plain": [
       "<Figure size 432x288 with 1 Axes>"
      ]
     },
     "metadata": {
      "needs_background": "light"
     },
     "output_type": "display_data"
    }
   ],
   "source": [
    "sns.countplot(data[\"Age\"])"
   ]
  },
  {
   "cell_type": "code",
   "execution_count": 16,
   "id": "45c5dd3a",
   "metadata": {},
   "outputs": [
    {
     "name": "stderr",
     "output_type": "stream",
     "text": [
      "C:\\ProgramData\\Anaconda3\\lib\\site-packages\\seaborn\\_decorators.py:36: FutureWarning: Pass the following variable as a keyword arg: x. From version 0.12, the only valid positional argument will be `data`, and passing other arguments without an explicit keyword will result in an error or misinterpretation.\n",
      "  warnings.warn(\n"
     ]
    },
    {
     "data": {
      "text/plain": [
       "<AxesSubplot:xlabel='Frequency', ylabel='count'>"
      ]
     },
     "execution_count": 16,
     "metadata": {},
     "output_type": "execute_result"
    },
    {
     "data": {
      "image/png": "[encoded data removed]",
      "text/plain": [
       "<Figure size 432x288 with 1 Axes>"
      ]
     },
     "metadata": {
      "needs_background": "light"
     },
     "output_type": "display_data"
    }
   ],
   "source": [
    "sns.countplot(data[\"Frequency\"])\n"
   ]
  },
  {
   "cell_type": "code",
   "execution_count": 17,
   "id": "c48efe17",
   "metadata": {},
   "outputs": [
    {
     "data": {
      "text/plain": [
       "<AxesSubplot:xlabel='Frequency', ylabel='Count'>"
      ]
     },
     "execution_count": 17,
     "metadata": {},
     "output_type": "execute_result"
    },
    {
     "data": {
      "image/png": "[encoded data removed]",
      "text/plain": [
       "<Figure size 432x288 with 1 Axes>"
      ]
     },
     "metadata": {
      "needs_background": "light"
     },
     "output_type": "display_data"
    }
   ],
   "source": [
    "sns.histplot(data[\"Frequency\"])\n"
   ]
  },
  {
   "cell_type": "code",
   "execution_count": 51,
   "id": "521f9448",
   "metadata": {},
   "outputs": [
    {
     "name": "stdout",
     "output_type": "stream",
     "text": [
      "Outlier Counter of the all features\n"
     ]
    },
    {
     "data": {
      "text/plain": [
       "Age             1\n",
       "Duration        0\n",
       "Frequency       5\n",
       "Location       29\n",
       "Character      31\n",
       "Intensity       0\n",
       "Nausea          5\n",
       "Vomit           0\n",
       "Phonophobia     9\n",
       "Photophobia     8\n",
       "Visual          0\n",
       "Sensory        89\n",
       "Dysphasia      15\n",
       "Dysarthria      1\n",
       "Vertigo        50\n",
       "Tinnitus       24\n",
       "Hypoacusis      6\n",
       "Diplopia        2\n",
       "Defect          6\n",
       "Conscience      7\n",
       "Paresthesia     3\n",
       "DPF             0\n",
       "Type            0\n",
       "dtype: int64"
      ]
     },
     "execution_count": 51,
     "metadata": {},
     "output_type": "execute_result"
    }
   ],
   "source": [
    "##Outlier detection using Inter Quantile Range\n",
    "Q1=data.quantile(0.25)\n",
    "Q3=data.quantile(0.75)\n",
    "IQR=Q3-Q1\n",
    "IQR\n",
    "print(\"Outlier Counter of the all features\")\n",
    "((data <(Q1-1.5*IQR )) | (data > (Q3+1.5*IQR))).sum()\n"
   ]
  },
  {
   "cell_type": "code",
   "execution_count": 19,
   "id": "e7b1105a",
   "metadata": {},
   "outputs": [],
   "source": [
    "##Outliers replace using Mean\n",
    "for col in data.columns:\n",
    "    if data[col].dtypes !='object':\n",
    "        q1, q3=data[col].quantile(0.25),data[col].quantile(0.75)\n",
    "        iqr=q3-q1\n",
    "        l1=q1-1.5*iqr\n",
    "        u1=q3+1.5*iqr\n",
    "        data[col]=np.where(data[col]>u1,data[col].mean(),np.where(data[col]<l1,data[col].mean(),data[col]))"
   ]
  },
  {
   "cell_type": "code",
   "execution_count": 20,
   "id": "7a6fe278",
   "metadata": {},
   "outputs": [
    {
     "data": {
      "text/plain": [
       "Dysarthria     19.849433\n",
       "Diplopia       13.981858\n",
       "Paresthesia    11.372110\n",
       "Defect          7.947494\n",
       "Hypoacusis      7.947494\n",
       "Conscience      7.328877\n",
       "Dysphasia       4.846123\n",
       "Tinnitus        3.685767\n",
       "Vertigo         2.250305\n",
       "Sensory         1.316034\n",
       "Frequency       0.941587\n",
       "Duration        0.774982\n",
       "Vomit           0.750744\n",
       "Age             0.657259\n",
       "DPF             0.373164\n",
       "Ataxia          0.000000\n",
       "Visual         -0.221405\n",
       "Intensity      -0.834856\n",
       "Type           -1.061461\n",
       "Character      -3.141682\n",
       "Location       -3.278326\n",
       "Phonophobia    -6.412015\n",
       "Photophobia    -6.828282\n",
       "Nausea         -8.740368\n",
       "dtype: float64"
      ]
     },
     "execution_count": 20,
     "metadata": {},
     "output_type": "execute_result"
    }
   ],
   "source": [
    "##Check skewness of the data\n",
    "skew=data.skew().sort_values(ascending=False)\n",
    "skew"
   ]
  },
  {
   "cell_type": "code",
   "execution_count": 21,
   "id": "48b5e832",
   "metadata": {},
   "outputs": [
    {
     "data": {
      "text/plain": [
       "Dysarthria     394.000000\n",
       "Diplopia       194.479553\n",
       "Paresthesia    127.974477\n",
       "Nausea          74.773581\n",
       "Defect          61.474689\n",
       "Hypoacusis      61.474689\n",
       "Conscience      51.976250\n",
       "Photophobia     44.853098\n",
       "Phonophobia     39.313477\n",
       "Dysphasia       21.594504\n",
       "Tinnitus        11.643963\n",
       "Location         8.792027\n",
       "Character        7.910295\n",
       "Vertigo          3.079480\n",
       "Ataxia           0.000000\n",
       "Type            -0.265528\n",
       "Sensory         -0.269448\n",
       "Intensity       -0.344545\n",
       "Frequency       -0.452701\n",
       "Age             -0.510447\n",
       "Visual          -0.896291\n",
       "Duration        -0.906276\n",
       "Vomit           -1.443739\n",
       "DPF             -1.870268\n",
       "dtype: float64"
      ]
     },
     "execution_count": 21,
     "metadata": {},
     "output_type": "execute_result"
    }
   ],
   "source": [
    "##Check the distribution of the data\n",
    "kurtosis=data.kurtosis().sort_values(ascending=False)\n",
    "kurtosis"
   ]
  },
  {
   "cell_type": "code",
   "execution_count": 22,
   "id": "26256279",
   "metadata": {},
   "outputs": [],
   "source": [
    "##Delete irrelevant feature\n",
    "del data[\"Ataxia\"]\n"
   ]
  },
  {
   "cell_type": "code",
   "execution_count": 23,
   "id": "1ddd1849",
   "metadata": {},
   "outputs": [
    {
     "data": {
      "image/png": "[encoded data removed]",
      "text/plain": [
       "<Figure size 1152x576 with 2 Axes>"
      ]
     },
     "metadata": {
      "needs_background": "light"
     },
     "output_type": "display_data"
    }
   ],
   "source": [
    "## correlation between the features\n",
    "import matplotlib.pyplot as plt\n",
    "plt.figure(figsize=(16,8))\n",
    "sns.heatmap(data.corr(),annot=True)\n",
    "plt.xticks(rotation=45);\n",
    "    \n"
   ]
  },
  {
   "cell_type": "code",
   "execution_count": 24,
   "id": "82c2276b",
   "metadata": {},
   "outputs": [],
   "source": [
    "##selecting the dependent and independent variable x and y\n",
    "x=data.iloc[:,:-1].values ## Independent\n",
    "y=data.iloc[:,-1].values ## Dependent"
   ]
  },
  {
   "cell_type": "code",
   "execution_count": 25,
   "id": "336d1a00",
   "metadata": {},
   "outputs": [
    {
     "data": {
      "text/plain": [
       "5.0    241\n",
       "2.0     60\n",
       "1.0     24\n",
       "6.0     20\n",
       "0.0     18\n",
       "3.0     17\n",
       "4.0     14\n",
       "Name: Type, dtype: int64"
      ]
     },
     "execution_count": 25,
     "metadata": {},
     "output_type": "execute_result"
    }
   ],
   "source": [
    "#Checking balancing of categorical variable\n",
    "data[\"Type\"].value_counts()"
   ]
  },
  {
   "cell_type": "code",
   "execution_count": 26,
   "id": "4c2fe565",
   "metadata": {},
   "outputs": [],
   "source": [
    "## Imbalancing techniques\n",
    "from imblearn.over_sampling import RandomOverSampler\n",
    "r=RandomOverSampler()\n",
    "x_data,y_data=r.fit_resample(x,y)"
   ]
  },
  {
   "cell_type": "code",
   "execution_count": 27,
   "id": "faaa9aa8",
   "metadata": {},
   "outputs": [
    {
     "name": "stdout",
     "output_type": "stream",
     "text": [
      "Counter({5.0: 241, 2.0: 241, 0.0: 241, 4.0: 241, 1.0: 241, 3.0: 241, 6.0: 241})\n"
     ]
    }
   ],
   "source": [
    "##Check counter\n",
    "from collections import Counter\n",
    "print(Counter(y_data))"
   ]
  },
  {
   "cell_type": "code",
   "execution_count": 28,
   "id": "f0d713fa",
   "metadata": {},
   "outputs": [
    {
     "name": "stdout",
     "output_type": "stream",
     "text": [
      "x_scaled :  [[ 0.10348226 -0.84607886  1.75623893 ... -0.21418975 -0.15782544\n",
      "  -1.02460614]\n",
      " [ 1.98119702  1.64490725  1.75623893 ... -0.21418975 -0.15782544\n",
      "  -1.02460614]\n",
      " [ 2.26285424  0.39941419 -0.76055567 ... -0.21418975 -0.15782544\n",
      "  -1.02460614]\n",
      " ...\n",
      " [-1.11703234 -0.84607886 -0.76055567 ... -0.21418975 -0.15782544\n",
      "  -1.02460614]\n",
      " [-0.45983217 -0.84607886 -0.76055567 ... -0.21418975 -0.15782544\n",
      "   0.97598478]\n",
      " [-0.36594643  0.39941419  1.75623893 ... -0.21418975 -0.15782544\n",
      "   0.97598478]]\n"
     ]
    }
   ],
   "source": [
    "##Feature scaling :\n",
    "from sklearn.preprocessing import StandardScaler\n",
    "s=StandardScaler()\n",
    "x_scaled=s.fit_transform(x_data)\n",
    "print(\"x_scaled : \", x_scaled)"
   ]
  },
  {
   "cell_type": "code",
   "execution_count": 29,
   "id": "fb966c0c",
   "metadata": {},
   "outputs": [
    {
     "data": {
      "text/plain": [
       "array([[ 0.10348226],\n",
       "       [-0.84607886],\n",
       "       [ 1.75623893],\n",
       "       ...,\n",
       "       [-0.21418975],\n",
       "       [-0.15782544],\n",
       "       [ 0.97598478]])"
      ]
     },
     "execution_count": 29,
     "metadata": {},
     "output_type": "execute_result"
    }
   ],
   "source": [
    "x_scaled.reshape(-1,1)"
   ]
  },
  {
   "cell_type": "code",
   "execution_count": 30,
   "id": "bb2df04c",
   "metadata": {},
   "outputs": [
    {
     "name": "stdout",
     "output_type": "stream",
     "text": [
      "x_train [[-0.17817495  0.39941419  0.49784163 ... -0.21418975 -0.15782544\n",
      "   0.97598478]\n",
      " [-1.0231466   0.39941419  1.75623893 ... -0.21418975 -0.15782544\n",
      "   0.97598478]\n",
      " [-1.21091807  0.39941419  1.12704028 ... -0.21418975 -0.15782544\n",
      "   0.97598478]\n",
      " ...\n",
      " [-0.83537512  0.39941419 -0.13135702 ... -0.21418975 -0.15782544\n",
      "  -1.02460614]\n",
      " [-0.55371791 -0.84607886 -0.76055567 ... -0.21418975 -0.15782544\n",
      "  -1.02460614]\n",
      " [ 1.79342555 -0.84607886 -0.13135702 ... -0.21418975 -0.15782544\n",
      "  -1.02460614]] x_test [[-0.83537512  1.64490725  1.75623893 ... -0.21418975 -0.15782544\n",
      "   0.97598478]\n",
      " [ 0.00959652 -0.84607886 -0.76055567 ... -0.21418975 -0.15782544\n",
      "  -1.02460614]\n",
      " [ 0.10348226 -0.84607886 -0.76055567 ... -0.21418975 -0.15782544\n",
      "   0.97598478]\n",
      " ...\n",
      " [ 0.57291095  0.39941419 -0.76055567 ... -0.21418975 -0.15782544\n",
      "  -1.02460614]\n",
      " [-0.36594643 -0.84607886 -0.13135702 ... -0.21418975 -0.15782544\n",
      "   0.97598478]\n",
      " [-0.55371791 -0.84607886 -0.76055567 ... -0.21418975 -0.15782544\n",
      "   0.97598478]] y_train [1. 1. 5. ... 4. 3. 3.] y_test [6. 5. 5. 3. 0. 4. 3. 3. 6. 5. 4. 5. 6. 1. 2. 1. 4. 4. 6. 1. 0. 2. 3. 0.\n",
      " 4. 3. 1. 3. 2. 5. 2. 5. 0. 0. 0. 1. 5. 4. 2. 2. 6. 0. 1. 0. 3. 2. 0. 5.\n",
      " 4. 6. 4. 6. 1. 4. 2. 1. 3. 2. 3. 1. 2. 4. 1. 6. 0. 0. 0. 1. 6. 1. 4. 6.\n",
      " 0. 5. 3. 6. 3. 1. 0. 2. 1. 4. 4. 5. 3. 6. 2. 3. 1. 3. 2. 2. 2. 5. 2. 4.\n",
      " 6. 3. 1. 2. 3. 1. 6. 2. 0. 3. 2. 1. 4. 3. 1. 1. 6. 2. 5. 5. 6. 2. 4. 1.\n",
      " 6. 2. 3. 4. 1. 1. 0. 0. 6. 3. 4. 5. 1. 2. 3. 4. 6. 6. 0. 4. 5. 6. 5. 6.\n",
      " 0. 2. 5. 3. 1. 2. 6. 6. 3. 0. 6. 6. 5. 6. 5. 1. 5. 3. 6. 4. 3. 1. 1. 2.\n",
      " 5. 1. 1. 2. 0. 0. 5. 0. 2. 5. 4. 3. 6. 5. 4. 5. 2. 5. 6. 6. 2. 3. 2. 0.\n",
      " 3. 1. 0. 2. 4. 3. 2. 5. 0. 4. 0. 4. 0. 6. 5. 1. 1. 5. 4. 1. 0. 5. 1. 0.\n",
      " 1. 0. 5. 4. 6. 4. 3. 6. 1. 6. 6. 1. 1. 1. 2. 3. 2. 1. 0. 6. 0. 1. 6. 6.\n",
      " 4. 3. 0. 5. 0. 6. 0. 4. 6. 4. 6. 5. 0. 2. 1. 3. 2. 2. 4. 1. 5. 1. 3. 6.\n",
      " 3. 3. 6. 6. 6. 4. 4. 1. 4. 1. 3. 3. 2. 0. 4. 6. 6. 4. 6. 0. 1. 0. 1. 0.\n",
      " 5. 2. 0. 6. 3. 6. 4. 4. 1. 1. 0. 5. 2. 3. 4. 4. 6. 3. 0. 4. 3. 2. 1. 3.\n",
      " 1. 6. 3. 5. 5. 2. 4. 3. 1. 1. 4. 4. 3. 2. 2. 4. 3. 2. 6. 0. 5. 5. 5. 2.\n",
      " 5. 0. 4. 1. 2. 5. 0. 0. 2. 2. 2. 3. 3. 5. 3. 0. 4. 2. 4. 2. 2. 0. 1. 2.\n",
      " 1. 0. 2. 1. 1. 5. 5. 4. 6. 3. 6. 1. 3. 5. 6. 4. 0. 3. 1. 6. 1. 1. 0. 4.\n",
      " 1. 3. 0. 6. 0. 4. 4. 4. 5. 0. 1. 3. 6. 6. 3. 6. 0. 3. 5. 0. 6. 3. 4. 6.\n",
      " 6. 2. 4. 5. 6. 0. 5. 0. 0. 0. 3. 2. 1. 1.]\n"
     ]
    }
   ],
   "source": [
    "##Split data into train and test\n",
    "from sklearn.model_selection import train_test_split\n",
    "x_train,x_test,y_train,y_test=train_test_split(x_scaled,y_data,test_size=0.25,random_state=11)\n",
    "print(\"x_train\",x_train,\"x_test\",x_test,\"y_train\",y_train,\"y_test\",y_test)"
   ]
  },
  {
   "cell_type": "code",
   "execution_count": 31,
   "id": "fc83eb0d",
   "metadata": {},
   "outputs": [
    {
     "data": {
      "text/html": [
       "<style>#sk-container-id-1 {color: black;background-color: white;}#sk-container-id-1 pre{padding: 0;}#sk-container-id-1 div.sk-toggleable {background-color: white;}#sk-container-id-1 label.sk-toggleable__label {cursor: pointer;display: block;width: 100%;margin-bottom: 0;padding: 0.3em;box-sizing: border-box;text-align: center;}#sk-container-id-1 label.sk-toggleable__label-arrow:before {content: \"▸\";float: left;margin-right: 0.25em;color: #696969;}#sk-container-id-1 label.sk-toggleable__label-arrow:hover:before {color: black;}#sk-container-id-1 div.sk-estimator:hover label.sk-toggleable__label-arrow:before {color: black;}#sk-container-id-1 div.sk-toggleable__content {max-height: 0;max-width: 0;overflow: hidden;text-align: left;background-color: #f0f8ff;}#sk-container-id-1 div.sk-toggleable__content pre {margin: 0.2em;color: black;border-radius: 0.25em;background-color: #f0f8ff;}#sk-container-id-1 input.sk-toggleable__control:checked~div.sk-toggleable__content {max-height: 200px;max-width: 100%;overflow: auto;}#sk-container-id-1 input.sk-toggleable__control:checked~label.sk-toggleable__label-arrow:before {content: \"▾\";}#sk-container-id-1 div.sk-estimator input.sk-toggleable__control:checked~label.sk-toggleable__label {background-color: #d4ebff;}#sk-container-id-1 div.sk-label input.sk-toggleable__control:checked~label.sk-toggleable__label {background-color: #d4ebff;}#sk-container-id-1 input.sk-hidden--visually {border: 0;clip: rect(1px 1px 1px 1px);clip: rect(1px, 1px, 1px, 1px);height: 1px;margin: -1px;overflow: hidden;padding: 0;position: absolute;width: 1px;}#sk-container-id-1 div.sk-estimator {font-family: monospace;background-color: #f0f8ff;border: 1px dotted black;border-radius: 0.25em;box-sizing: border-box;margin-bottom: 0.5em;}#sk-container-id-1 div.sk-estimator:hover {background-color: #d4ebff;}#sk-container-id-1 div.sk-parallel-item::after {content: \"\";width: 100%;border-bottom: 1px solid gray;flex-grow: 1;}#sk-container-id-1 div.sk-label:hover label.sk-toggleable__label {background-color: #d4ebff;}#sk-container-id-1 div.sk-serial::before {content: \"\";position: absolute;border-left: 1px solid gray;box-sizing: border-box;top: 0;bottom: 0;left: 50%;z-index: 0;}#sk-container-id-1 div.sk-serial {display: flex;flex-direction: column;align-items: center;background-color: white;padding-right: 0.2em;padding-left: 0.2em;position: relative;}#sk-container-id-1 div.sk-item {position: relative;z-index: 1;}#sk-container-id-1 div.sk-parallel {display: flex;align-items: stretch;justify-content: center;background-color: white;position: relative;}#sk-container-id-1 div.sk-item::before, #sk-container-id-1 div.sk-parallel-item::before {content: \"\";position: absolute;border-left: 1px solid gray;box-sizing: border-box;top: 0;bottom: 0;left: 50%;z-index: -1;}#sk-container-id-1 div.sk-parallel-item {display: flex;flex-direction: column;z-index: 1;position: relative;background-color: white;}#sk-container-id-1 div.sk-parallel-item:first-child::after {align-self: flex-end;width: 50%;}#sk-container-id-1 div.sk-parallel-item:last-child::after {align-self: flex-start;width: 50%;}#sk-container-id-1 div.sk-parallel-item:only-child::after {width: 0;}#sk-container-id-1 div.sk-dashed-wrapped {border: 1px dashed gray;margin: 0 0.4em 0.5em 0.4em;box-sizing: border-box;padding-bottom: 0.4em;background-color: white;}#sk-container-id-1 div.sk-label label {font-family: monospace;font-weight: bold;display: inline-block;line-height: 1.2em;}#sk-container-id-1 div.sk-label-container {text-align: center;}#sk-container-id-1 div.sk-container {/* jupyter's `normalize.less` sets `[hidden] { display: none; }` but bootstrap.min.css set `[hidden] { display: none !important; }` so we also need the `!important` here to be able to override the default hidden behavior on the sphinx rendered scikit-learn.org. See: https://github.com/scikit-learn/scikit-learn/issues/21755 */display: inline-block !important;position: relative;}#sk-container-id-1 div.sk-text-repr-fallback {display: none;}</style><div id=\"sk-container-id-1\" class=\"sk-top-container\"><div class=\"sk-text-repr-fallback\"><pre>LogisticRegression()</pre><b>In a Jupyter environment, please rerun this cell to show the HTML representation or trust the notebook. <br />On GitHub, the HTML representation is unable to render, please try loading this page with nbviewer.org.</b></div><div class=\"sk-container\" hidden><div class=\"sk-item\"><div class=\"sk-estimator sk-toggleable\"><input class=\"sk-toggleable__control sk-hidden--visually\" id=\"sk-estimator-id-1\" type=\"checkbox\" checked><label for=\"sk-estimator-id-1\" class=\"sk-toggleable__label sk-toggleable__label-arrow\">LogisticRegression</label><div class=\"sk-toggleable__content\"><pre>LogisticRegression()</pre></div></div></div></div></div>"
      ],
      "text/plain": [
       "LogisticRegression()"
      ]
     },
     "execution_count": 31,
     "metadata": {},
     "output_type": "execute_result"
    }
   ],
   "source": [
    "from sklearn.linear_model import LogisticRegression\n",
    "l=LogisticRegression()\n",
    "model=l.fit(x_train,y_train)\n",
    "model\n"
   ]
  },
  {
   "cell_type": "code",
   "execution_count": 32,
   "id": "a5e44521",
   "metadata": {},
   "outputs": [
    {
     "name": "stdout",
     "output_type": "stream",
     "text": [
      "log_pred : [6. 5. 1. 3. 0. 4. 3. 3. 6. 5. 4. 5. 6. 1. 2. 1. 4. 4. 6. 5. 0. 2. 3. 0.\n",
      " 4. 3. 1. 3. 2. 5. 2. 3. 0. 0. 0. 1. 5. 5. 2. 2. 6. 0. 1. 0. 3. 2. 0. 5.\n",
      " 4. 6. 4. 6. 1. 4. 2. 1. 3. 2. 3. 1. 2. 4. 1. 6. 0. 0. 0. 1. 6. 1. 4. 6.\n",
      " 0. 5. 3. 6. 3. 1. 0. 2. 1. 4. 4. 4. 3. 6. 2. 3. 1. 3. 2. 2. 2. 0. 2. 4.\n",
      " 6. 3. 1. 2. 3. 1. 6. 2. 0. 3. 2. 1. 4. 3. 1. 1. 6. 2. 5. 1. 6. 2. 4. 1.\n",
      " 6. 2. 3. 4. 1. 1. 0. 0. 6. 3. 4. 4. 1. 2. 3. 5. 6. 6. 0. 4. 5. 6. 5. 6.\n",
      " 0. 2. 5. 2. 1. 2. 6. 6. 3. 0. 6. 6. 5. 6. 5. 1. 1. 3. 6. 4. 3. 1. 1. 2.\n",
      " 5. 1. 1. 2. 0. 0. 5. 0. 2. 4. 4. 3. 6. 5. 4. 5. 2. 5. 6. 6. 2. 3. 2. 0.\n",
      " 3. 1. 0. 2. 4. 3. 2. 5. 0. 4. 0. 5. 0. 6. 5. 1. 1. 4. 4. 1. 0. 4. 1. 0.\n",
      " 1. 0. 5. 4. 6. 4. 3. 6. 1. 6. 6. 1. 1. 1. 2. 3. 2. 1. 0. 6. 0. 1. 6. 6.\n",
      " 4. 3. 0. 1. 0. 6. 0. 4. 6. 4. 6. 5. 0. 2. 1. 3. 2. 2. 4. 1. 5. 1. 3. 6.\n",
      " 3. 3. 6. 6. 6. 4. 4. 5. 4. 1. 3. 3. 2. 0. 4. 6. 6. 4. 6. 0. 1. 0. 1. 0.\n",
      " 5. 2. 0. 6. 3. 6. 4. 4. 1. 1. 0. 4. 2. 3. 4. 4. 6. 3. 0. 4. 2. 2. 1. 3.\n",
      " 1. 6. 3. 5. 5. 2. 4. 2. 1. 1. 4. 4. 3. 2. 2. 4. 3. 2. 6. 0. 5. 5. 5. 2.\n",
      " 5. 0. 5. 1. 2. 4. 0. 0. 2. 2. 2. 3. 3. 5. 3. 0. 4. 2. 4. 2. 2. 0. 1. 2.\n",
      " 1. 0. 2. 1. 1. 1. 5. 4. 6. 3. 6. 1. 3. 5. 6. 4. 0. 3. 1. 6. 1. 1. 0. 4.\n",
      " 1. 3. 0. 6. 0. 4. 4. 4. 1. 0. 1. 3. 6. 6. 3. 6. 0. 3. 5. 0. 6. 3. 4. 6.\n",
      " 6. 2. 4. 5. 6. 0. 5. 0. 0. 0. 3. 2. 1. 1.]\n"
     ]
    }
   ],
   "source": [
    "log_pred=model.predict(x_test)\n",
    "print(\"log_pred :\",log_pred)\n"
   ]
  },
  {
   "cell_type": "code",
   "execution_count": 33,
   "id": "52f4f34f",
   "metadata": {},
   "outputs": [
    {
     "name": "stdout",
     "output_type": "stream",
     "text": [
      "accuracy_score : 94.31\n"
     ]
    }
   ],
   "source": [
    "from sklearn.metrics import accuracy_score\n",
    "accuracy_score=accuracy_score(log_pred,y_test)\n",
    "print(\"accuracy_score :\", accuracy_score.round(4)*100)"
   ]
  },
  {
   "cell_type": "code",
   "execution_count": 34,
   "id": "474f1079",
   "metadata": {},
   "outputs": [
    {
     "data": {
      "text/plain": [
       "9"
      ]
     },
     "execution_count": 34,
     "metadata": {},
     "output_type": "execute_result"
    }
   ],
   "source": [
    "##Cross Validation Technique: KFold\n",
    "from sklearn.model_selection import KFold\n",
    "kf=KFold(n_splits=9,random_state=15,shuffle=True)\n",
    "kf.get_n_splits(x_data)"
   ]
  },
  {
   "cell_type": "code",
   "execution_count": 35,
   "id": "92b7ff58",
   "metadata": {},
   "outputs": [
    {
     "name": "stderr",
     "output_type": "stream",
     "text": [
      "C:\\ProgramData\\Anaconda3\\lib\\site-packages\\sklearn\\linear_model\\_logistic.py:444: ConvergenceWarning: lbfgs failed to converge (status=1):\n",
      "STOP: TOTAL NO. of ITERATIONS REACHED LIMIT.\n",
      "\n",
      "Increase the number of iterations (max_iter) or scale the data as shown in:\n",
      "    https://scikit-learn.org/stable/modules/preprocessing.html\n",
      "Please also refer to the documentation for alternative solver options:\n",
      "    https://scikit-learn.org/stable/modules/linear_model.html#logistic-regression\n",
      "  n_iter_i = _check_optimize_result(\n",
      "C:\\ProgramData\\Anaconda3\\lib\\site-packages\\sklearn\\linear_model\\_logistic.py:444: ConvergenceWarning: lbfgs failed to converge (status=1):\n",
      "STOP: TOTAL NO. of ITERATIONS REACHED LIMIT.\n",
      "\n",
      "Increase the number of iterations (max_iter) or scale the data as shown in:\n",
      "    https://scikit-learn.org/stable/modules/preprocessing.html\n",
      "Please also refer to the documentation for alternative solver options:\n",
      "    https://scikit-learn.org/stable/modules/linear_model.html#logistic-regression\n",
      "  n_iter_i = _check_optimize_result(\n",
      "C:\\ProgramData\\Anaconda3\\lib\\site-packages\\sklearn\\linear_model\\_logistic.py:444: ConvergenceWarning: lbfgs failed to converge (status=1):\n",
      "STOP: TOTAL NO. of ITERATIONS REACHED LIMIT.\n",
      "\n",
      "Increase the number of iterations (max_iter) or scale the data as shown in:\n",
      "    https://scikit-learn.org/stable/modules/preprocessing.html\n",
      "Please also refer to the documentation for alternative solver options:\n",
      "    https://scikit-learn.org/stable/modules/linear_model.html#logistic-regression\n",
      "  n_iter_i = _check_optimize_result(\n",
      "C:\\ProgramData\\Anaconda3\\lib\\site-packages\\sklearn\\linear_model\\_logistic.py:444: ConvergenceWarning: lbfgs failed to converge (status=1):\n",
      "STOP: TOTAL NO. of ITERATIONS REACHED LIMIT.\n",
      "\n",
      "Increase the number of iterations (max_iter) or scale the data as shown in:\n",
      "    https://scikit-learn.org/stable/modules/preprocessing.html\n",
      "Please also refer to the documentation for alternative solver options:\n",
      "    https://scikit-learn.org/stable/modules/linear_model.html#logistic-regression\n",
      "  n_iter_i = _check_optimize_result(\n",
      "C:\\ProgramData\\Anaconda3\\lib\\site-packages\\sklearn\\linear_model\\_logistic.py:444: ConvergenceWarning: lbfgs failed to converge (status=1):\n",
      "STOP: TOTAL NO. of ITERATIONS REACHED LIMIT.\n",
      "\n",
      "Increase the number of iterations (max_iter) or scale the data as shown in:\n",
      "    https://scikit-learn.org/stable/modules/preprocessing.html\n",
      "Please also refer to the documentation for alternative solver options:\n",
      "    https://scikit-learn.org/stable/modules/linear_model.html#logistic-regression\n",
      "  n_iter_i = _check_optimize_result(\n"
     ]
    },
    {
     "name": "stdout",
     "output_type": "stream",
     "text": [
      "[6. 5. 1. 3. 0. 4. 3. 3. 6. 5. 4. 5. 6. 1. 2. 1. 4. 4. 6. 5. 0. 2. 3. 0.\n",
      " 4. 3. 1. 3. 2. 5. 2. 2. 0. 0. 0. 1. 5. 5. 2. 2. 6. 0. 5. 0. 3. 2. 0. 5.\n",
      " 4. 6. 4. 6. 1. 4. 2. 1. 3. 2. 3. 1. 2. 4. 1. 6. 0. 0. 0. 1. 6. 1. 4. 6.\n",
      " 0. 5. 3. 6. 3. 1. 0. 2. 1. 4. 4. 5. 3. 6. 2. 3. 1. 3. 2. 2. 2. 5. 2. 4.\n",
      " 6. 3. 1. 2. 3. 1. 6. 2. 0. 3. 2. 1. 4. 3. 1. 1. 6. 2. 1. 1. 6. 2. 4. 1.\n",
      " 6. 2. 3. 4. 1. 1. 0. 0. 6. 3. 4. 5. 1. 2. 3. 5. 6. 6. 0. 4. 5. 6. 5. 6.\n",
      " 0. 2. 5. 2. 1. 2. 6. 6. 3. 0. 6. 6. 5. 6. 5. 1. 5. 3. 6. 4. 3. 1. 1. 2.\n",
      " 1. 1. 1. 2. 0. 0. 5. 0. 2. 4. 4. 3. 6. 5. 4. 5. 2. 5. 6. 6. 2. 3. 2. 0.\n",
      " 3. 0. 0. 2. 4. 3. 2. 5. 0. 4. 0. 5. 0. 6. 5. 1. 1. 5. 4. 1. 0. 4. 1. 0.\n",
      " 1. 0. 5. 4. 6. 4. 3. 6. 1. 6. 6. 1. 1. 1. 2. 3. 2. 1. 0. 6. 0. 1. 6. 6.\n",
      " 4. 3. 0. 5. 0. 6. 0. 4. 6. 4. 6. 5. 0. 2. 1. 3. 2. 2. 4. 1. 2. 1. 3. 6.\n",
      " 3. 3. 6. 6. 6. 4. 4. 1. 4. 1. 3. 3. 2. 0. 4. 6. 6. 4. 6. 0. 1. 0. 1. 0.\n",
      " 5. 2. 0. 6. 3. 6. 4. 4. 1. 1. 0. 4. 2. 3. 4. 4. 6. 3. 0. 4. 2. 2. 1. 3.\n",
      " 1. 6. 3. 5. 5. 2. 4. 2. 1. 1. 4. 4. 3. 2. 2. 5. 3. 2. 6. 0. 5. 5. 5. 2.\n",
      " 5. 0. 5. 1. 2. 4. 0. 0. 2. 2. 2. 3. 6. 5. 3. 0. 4. 2. 4. 2. 2. 0. 1. 2.\n",
      " 1. 0. 2. 1. 1. 1. 5. 4. 6. 3. 6. 1. 3. 5. 6. 4. 0. 3. 1. 6. 1. 1. 0. 4.\n",
      " 1. 3. 0. 6. 0. 5. 4. 4. 1. 0. 1. 3. 6. 6. 3. 6. 0. 3. 1. 0. 6. 3. 4. 6.\n",
      " 6. 2. 4. 4. 6. 0. 5. 0. 0. 0. 3. 2. 1. 1.]\n",
      "[0.6183432  0.63017751 0.69436202 0.63501484 0.66172107]\n",
      "Average accuracy 64.79 %\n"
     ]
    }
   ],
   "source": [
    "## Cross validation \n",
    "from sklearn.model_selection import cross_val_score\n",
    "from sklearn.model_selection import cross_val_predict\n",
    "score1=cross_val_score(l,x_data,y_data)\n",
    "cv_pred=cross_val_predict(l,x_test,y_test)\n",
    "print(cv_pred)\n",
    "print(score1)\n",
    "print(\"Average accuracy\",score1.mean().round(4)*100,\"%\")\n"
   ]
  },
  {
   "cell_type": "code",
   "execution_count": 36,
   "id": "f0361329",
   "metadata": {},
   "outputs": [
    {
     "data": {
      "text/html": [
       "<style>#sk-container-id-2 {color: black;background-color: white;}#sk-container-id-2 pre{padding: 0;}#sk-container-id-2 div.sk-toggleable {background-color: white;}#sk-container-id-2 label.sk-toggleable__label {cursor: pointer;display: block;width: 100%;margin-bottom: 0;padding: 0.3em;box-sizing: border-box;text-align: center;}#sk-container-id-2 label.sk-toggleable__label-arrow:before {content: \"▸\";float: left;margin-right: 0.25em;color: #696969;}#sk-container-id-2 label.sk-toggleable__label-arrow:hover:before {color: black;}#sk-container-id-2 div.sk-estimator:hover label.sk-toggleable__label-arrow:before {color: black;}#sk-container-id-2 div.sk-toggleable__content {max-height: 0;max-width: 0;overflow: hidden;text-align: left;background-color: #f0f8ff;}#sk-container-id-2 div.sk-toggleable__content pre {margin: 0.2em;color: black;border-radius: 0.25em;background-color: #f0f8ff;}#sk-container-id-2 input.sk-toggleable__control:checked~div.sk-toggleable__content {max-height: 200px;max-width: 100%;overflow: auto;}#sk-container-id-2 input.sk-toggleable__control:checked~label.sk-toggleable__label-arrow:before {content: \"▾\";}#sk-container-id-2 div.sk-estimator input.sk-toggleable__control:checked~label.sk-toggleable__label {background-color: #d4ebff;}#sk-container-id-2 div.sk-label input.sk-toggleable__control:checked~label.sk-toggleable__label {background-color: #d4ebff;}#sk-container-id-2 input.sk-hidden--visually {border: 0;clip: rect(1px 1px 1px 1px);clip: rect(1px, 1px, 1px, 1px);height: 1px;margin: -1px;overflow: hidden;padding: 0;position: absolute;width: 1px;}#sk-container-id-2 div.sk-estimator {font-family: monospace;background-color: #f0f8ff;border: 1px dotted black;border-radius: 0.25em;box-sizing: border-box;margin-bottom: 0.5em;}#sk-container-id-2 div.sk-estimator:hover {background-color: #d4ebff;}#sk-container-id-2 div.sk-parallel-item::after {content: \"\";width: 100%;border-bottom: 1px solid gray;flex-grow: 1;}#sk-container-id-2 div.sk-label:hover label.sk-toggleable__label {background-color: #d4ebff;}#sk-container-id-2 div.sk-serial::before {content: \"\";position: absolute;border-left: 1px solid gray;box-sizing: border-box;top: 0;bottom: 0;left: 50%;z-index: 0;}#sk-container-id-2 div.sk-serial {display: flex;flex-direction: column;align-items: center;background-color: white;padding-right: 0.2em;padding-left: 0.2em;position: relative;}#sk-container-id-2 div.sk-item {position: relative;z-index: 1;}#sk-container-id-2 div.sk-parallel {display: flex;align-items: stretch;justify-content: center;background-color: white;position: relative;}#sk-container-id-2 div.sk-item::before, #sk-container-id-2 div.sk-parallel-item::before {content: \"\";position: absolute;border-left: 1px solid gray;box-sizing: border-box;top: 0;bottom: 0;left: 50%;z-index: -1;}#sk-container-id-2 div.sk-parallel-item {display: flex;flex-direction: column;z-index: 1;position: relative;background-color: white;}#sk-container-id-2 div.sk-parallel-item:first-child::after {align-self: flex-end;width: 50%;}#sk-container-id-2 div.sk-parallel-item:last-child::after {align-self: flex-start;width: 50%;}#sk-container-id-2 div.sk-parallel-item:only-child::after {width: 0;}#sk-container-id-2 div.sk-dashed-wrapped {border: 1px dashed gray;margin: 0 0.4em 0.5em 0.4em;box-sizing: border-box;padding-bottom: 0.4em;background-color: white;}#sk-container-id-2 div.sk-label label {font-family: monospace;font-weight: bold;display: inline-block;line-height: 1.2em;}#sk-container-id-2 div.sk-label-container {text-align: center;}#sk-container-id-2 div.sk-container {/* jupyter's `normalize.less` sets `[hidden] { display: none; }` but bootstrap.min.css set `[hidden] { display: none !important; }` so we also need the `!important` here to be able to override the default hidden behavior on the sphinx rendered scikit-learn.org. See: https://github.com/scikit-learn/scikit-learn/issues/21755 */display: inline-block !important;position: relative;}#sk-container-id-2 div.sk-text-repr-fallback {display: none;}</style><div id=\"sk-container-id-2\" class=\"sk-top-container\"><div class=\"sk-text-repr-fallback\"><pre>SVC()</pre><b>In a Jupyter environment, please rerun this cell to show the HTML representation or trust the notebook. <br />On GitHub, the HTML representation is unable to render, please try loading this page with nbviewer.org.</b></div><div class=\"sk-container\" hidden><div class=\"sk-item\"><div class=\"sk-estimator sk-toggleable\"><input class=\"sk-toggleable__control sk-hidden--visually\" id=\"sk-estimator-id-2\" type=\"checkbox\" checked><label for=\"sk-estimator-id-2\" class=\"sk-toggleable__label sk-toggleable__label-arrow\">SVC</label><div class=\"sk-toggleable__content\"><pre>SVC()</pre></div></div></div></div></div>"
      ],
      "text/plain": [
       "SVC()"
      ]
     },
     "execution_count": 36,
     "metadata": {},
     "output_type": "execute_result"
    }
   ],
   "source": [
    "#SVM \n",
    "from sklearn.svm import SVC\n",
    "s1=SVC()\n",
    "model3=s1.fit(x_train,y_train)\n",
    "model3\n"
   ]
  },
  {
   "cell_type": "code",
   "execution_count": 37,
   "id": "dae99036",
   "metadata": {},
   "outputs": [
    {
     "name": "stdout",
     "output_type": "stream",
     "text": [
      "Predcted SVM [6. 5. 5. 3. 0. 4. 3. 3. 6. 5. 4. 5. 6. 1. 2. 1. 4. 4. 6. 5. 0. 2. 3. 0.\n",
      " 4. 3. 1. 3. 2. 5. 2. 5. 0. 0. 0. 1. 5. 5. 2. 2. 6. 0. 1. 0. 3. 2. 0. 5.\n",
      " 4. 6. 4. 6. 1. 4. 2. 1. 3. 2. 3. 1. 2. 4. 1. 6. 0. 0. 0. 1. 6. 1. 4. 6.\n",
      " 0. 5. 3. 6. 3. 1. 0. 2. 1. 4. 4. 5. 3. 6. 2. 3. 1. 3. 2. 2. 2. 0. 2. 4.\n",
      " 6. 3. 1. 2. 3. 1. 6. 2. 0. 3. 2. 1. 4. 3. 1. 1. 6. 2. 5. 1. 6. 2. 4. 1.\n",
      " 6. 2. 3. 4. 1. 1. 0. 0. 6. 3. 4. 5. 1. 2. 3. 5. 6. 6. 0. 4. 5. 6. 5. 6.\n",
      " 0. 2. 5. 2. 1. 2. 6. 6. 3. 0. 6. 6. 5. 6. 5. 1. 1. 3. 6. 4. 3. 1. 1. 2.\n",
      " 5. 1. 1. 2. 0. 0. 5. 0. 2. 5. 4. 3. 6. 5. 4. 5. 2. 5. 6. 6. 2. 3. 2. 0.\n",
      " 3. 1. 0. 2. 4. 3. 2. 5. 0. 4. 0. 5. 0. 6. 5. 1. 1. 5. 4. 1. 0. 4. 1. 0.\n",
      " 1. 0. 5. 4. 6. 4. 3. 6. 1. 6. 6. 1. 1. 1. 2. 3. 2. 1. 0. 6. 0. 1. 6. 6.\n",
      " 4. 3. 0. 1. 0. 6. 0. 4. 6. 4. 6. 5. 0. 2. 1. 3. 2. 2. 4. 1. 5. 1. 3. 6.\n",
      " 3. 3. 6. 6. 6. 4. 4. 5. 4. 1. 3. 3. 2. 0. 4. 6. 6. 4. 6. 0. 1. 0. 1. 0.\n",
      " 5. 2. 0. 6. 3. 6. 4. 4. 1. 1. 0. 4. 2. 3. 4. 4. 6. 3. 0. 4. 2. 2. 1. 3.\n",
      " 1. 6. 3. 5. 5. 2. 4. 2. 1. 1. 4. 4. 3. 2. 2. 4. 3. 2. 6. 0. 5. 5. 5. 2.\n",
      " 5. 0. 5. 1. 2. 5. 0. 0. 2. 2. 2. 3. 3. 5. 3. 0. 4. 2. 4. 2. 2. 0. 1. 2.\n",
      " 1. 0. 2. 1. 1. 1. 5. 4. 6. 3. 6. 1. 3. 5. 6. 4. 0. 3. 1. 6. 1. 1. 0. 4.\n",
      " 1. 3. 0. 6. 0. 4. 4. 4. 1. 0. 1. 3. 6. 6. 3. 6. 0. 3. 5. 0. 6. 3. 4. 6.\n",
      " 6. 2. 4. 5. 6. 0. 5. 0. 0. 0. 3. 2. 1. 1.]\n"
     ]
    }
   ],
   "source": [
    "svm_pred=model3.predict(x_test)\n",
    "print(\"Predcted SVM\",svm_pred)"
   ]
  },
  {
   "cell_type": "code",
   "execution_count": 38,
   "id": "66ff0f3d",
   "metadata": {},
   "outputs": [
    {
     "name": "stdout",
     "output_type": "stream",
     "text": [
      "Average accuracy 95.97 %\n"
     ]
    }
   ],
   "source": [
    "#print(accuracy_score(svm_pred,y_test))\n",
    "from sklearn.metrics import accuracy_score\n",
    "score2=accuracy_score(svm_pred,y_test)\n",
    "print(\"Average accuracy\",score2.mean().round(4)*100,\"%\")\n"
   ]
  },
  {
   "cell_type": "code",
   "execution_count": 39,
   "id": "9e27b426",
   "metadata": {},
   "outputs": [
    {
     "data": {
      "text/html": [
       "<style>#sk-container-id-3 {color: black;background-color: white;}#sk-container-id-3 pre{padding: 0;}#sk-container-id-3 div.sk-toggleable {background-color: white;}#sk-container-id-3 label.sk-toggleable__label {cursor: pointer;display: block;width: 100%;margin-bottom: 0;padding: 0.3em;box-sizing: border-box;text-align: center;}#sk-container-id-3 label.sk-toggleable__label-arrow:before {content: \"▸\";float: left;margin-right: 0.25em;color: #696969;}#sk-container-id-3 label.sk-toggleable__label-arrow:hover:before {color: black;}#sk-container-id-3 div.sk-estimator:hover label.sk-toggleable__label-arrow:before {color: black;}#sk-container-id-3 div.sk-toggleable__content {max-height: 0;max-width: 0;overflow: hidden;text-align: left;background-color: #f0f8ff;}#sk-container-id-3 div.sk-toggleable__content pre {margin: 0.2em;color: black;border-radius: 0.25em;background-color: #f0f8ff;}#sk-container-id-3 input.sk-toggleable__control:checked~div.sk-toggleable__content {max-height: 200px;max-width: 100%;overflow: auto;}#sk-container-id-3 input.sk-toggleable__control:checked~label.sk-toggleable__label-arrow:before {content: \"▾\";}#sk-container-id-3 div.sk-estimator input.sk-toggleable__control:checked~label.sk-toggleable__label {background-color: #d4ebff;}#sk-container-id-3 div.sk-label input.sk-toggleable__control:checked~label.sk-toggleable__label {background-color: #d4ebff;}#sk-container-id-3 input.sk-hidden--visually {border: 0;clip: rect(1px 1px 1px 1px);clip: rect(1px, 1px, 1px, 1px);height: 1px;margin: -1px;overflow: hidden;padding: 0;position: absolute;width: 1px;}#sk-container-id-3 div.sk-estimator {font-family: monospace;background-color: #f0f8ff;border: 1px dotted black;border-radius: 0.25em;box-sizing: border-box;margin-bottom: 0.5em;}#sk-container-id-3 div.sk-estimator:hover {background-color: #d4ebff;}#sk-container-id-3 div.sk-parallel-item::after {content: \"\";width: 100%;border-bottom: 1px solid gray;flex-grow: 1;}#sk-container-id-3 div.sk-label:hover label.sk-toggleable__label {background-color: #d4ebff;}#sk-container-id-3 div.sk-serial::before {content: \"\";position: absolute;border-left: 1px solid gray;box-sizing: border-box;top: 0;bottom: 0;left: 50%;z-index: 0;}#sk-container-id-3 div.sk-serial {display: flex;flex-direction: column;align-items: center;background-color: white;padding-right: 0.2em;padding-left: 0.2em;position: relative;}#sk-container-id-3 div.sk-item {position: relative;z-index: 1;}#sk-container-id-3 div.sk-parallel {display: flex;align-items: stretch;justify-content: center;background-color: white;position: relative;}#sk-container-id-3 div.sk-item::before, #sk-container-id-3 div.sk-parallel-item::before {content: \"\";position: absolute;border-left: 1px solid gray;box-sizing: border-box;top: 0;bottom: 0;left: 50%;z-index: -1;}#sk-container-id-3 div.sk-parallel-item {display: flex;flex-direction: column;z-index: 1;position: relative;background-color: white;}#sk-container-id-3 div.sk-parallel-item:first-child::after {align-self: flex-end;width: 50%;}#sk-container-id-3 div.sk-parallel-item:last-child::after {align-self: flex-start;width: 50%;}#sk-container-id-3 div.sk-parallel-item:only-child::after {width: 0;}#sk-container-id-3 div.sk-dashed-wrapped {border: 1px dashed gray;margin: 0 0.4em 0.5em 0.4em;box-sizing: border-box;padding-bottom: 0.4em;background-color: white;}#sk-container-id-3 div.sk-label label {font-family: monospace;font-weight: bold;display: inline-block;line-height: 1.2em;}#sk-container-id-3 div.sk-label-container {text-align: center;}#sk-container-id-3 div.sk-container {/* jupyter's `normalize.less` sets `[hidden] { display: none; }` but bootstrap.min.css set `[hidden] { display: none !important; }` so we also need the `!important` here to be able to override the default hidden behavior on the sphinx rendered scikit-learn.org. See: https://github.com/scikit-learn/scikit-learn/issues/21755 */display: inline-block !important;position: relative;}#sk-container-id-3 div.sk-text-repr-fallback {display: none;}</style><div id=\"sk-container-id-3\" class=\"sk-top-container\"><div class=\"sk-text-repr-fallback\"><pre>KNeighborsClassifier()</pre><b>In a Jupyter environment, please rerun this cell to show the HTML representation or trust the notebook. <br />On GitHub, the HTML representation is unable to render, please try loading this page with nbviewer.org.</b></div><div class=\"sk-container\" hidden><div class=\"sk-item\"><div class=\"sk-estimator sk-toggleable\"><input class=\"sk-toggleable__control sk-hidden--visually\" id=\"sk-estimator-id-3\" type=\"checkbox\" checked><label for=\"sk-estimator-id-3\" class=\"sk-toggleable__label sk-toggleable__label-arrow\">KNeighborsClassifier</label><div class=\"sk-toggleable__content\"><pre>KNeighborsClassifier()</pre></div></div></div></div></div>"
      ],
      "text/plain": [
       "KNeighborsClassifier()"
      ]
     },
     "execution_count": 39,
     "metadata": {},
     "output_type": "execute_result"
    }
   ],
   "source": [
    "from sklearn.neighbors import KNeighborsClassifier \n",
    "k1=KNeighborsClassifier(n_neighbors=5,metric=\"minkowski\",p=2)\n",
    "model2=k1.fit(x_train,y_train)\n",
    "model2\n"
   ]
  },
  {
   "cell_type": "code",
   "execution_count": 40,
   "id": "0057be76",
   "metadata": {},
   "outputs": [
    {
     "data": {
      "text/plain": [
       "array([6., 5., 5., 3., 0., 4., 3., 3., 6., 5., 4., 5., 6., 1., 2., 1., 4.,\n",
       "       4., 6., 1., 0., 2., 3., 0., 4., 3., 1., 3., 2., 5., 2., 5., 0., 0.,\n",
       "       0., 1., 5., 4., 2., 2., 6., 0., 1., 0., 3., 2., 0., 5., 4., 6., 4.,\n",
       "       6., 1., 4., 2., 1., 3., 2., 3., 1., 2., 4., 1., 6., 0., 0., 0., 1.,\n",
       "       6., 1., 4., 6., 0., 5., 3., 6., 3., 1., 0., 2., 1., 4., 4., 5., 3.,\n",
       "       6., 2., 3., 1., 3., 2., 2., 2., 0., 2., 4., 6., 3., 1., 2., 3., 1.,\n",
       "       6., 2., 0., 3., 2., 1., 4., 3., 1., 1., 6., 2., 5., 1., 6., 2., 4.,\n",
       "       1., 6., 2., 3., 4., 1., 1., 0., 0., 6., 3., 4., 5., 1., 2., 3., 4.,\n",
       "       6., 6., 0., 4., 5., 6., 5., 6., 0., 2., 5., 3., 1., 2., 6., 6., 3.,\n",
       "       0., 6., 6., 5., 6., 5., 1., 5., 3., 6., 4., 3., 1., 1., 2., 5., 1.,\n",
       "       1., 2., 0., 0., 5., 0., 2., 5., 4., 3., 6., 5., 4., 5., 2., 2., 6.,\n",
       "       6., 2., 3., 2., 0., 3., 1., 0., 2., 4., 3., 2., 5., 0., 4., 0., 4.,\n",
       "       0., 6., 5., 1., 1., 5., 4., 1., 0., 4., 1., 0., 1., 0., 5., 4., 6.,\n",
       "       4., 3., 6., 1., 6., 6., 1., 1., 1., 2., 3., 2., 1., 0., 6., 0., 1.,\n",
       "       6., 6., 4., 3., 0., 1., 0., 6., 0., 4., 6., 4., 6., 5., 0., 2., 1.,\n",
       "       3., 2., 2., 4., 1., 2., 1., 3., 6., 3., 3., 6., 6., 6., 4., 4., 1.,\n",
       "       4., 1., 3., 3., 2., 0., 4., 6., 6., 4., 6., 0., 1., 0., 1., 0., 5.,\n",
       "       3., 0., 6., 3., 6., 4., 4., 1., 1., 0., 1., 2., 3., 4., 4., 6., 3.,\n",
       "       0., 4., 3., 2., 1., 3., 1., 6., 3., 5., 5., 2., 4., 3., 1., 1., 4.,\n",
       "       4., 3., 2., 2., 4., 3., 2., 6., 0., 5., 2., 5., 2., 5., 0., 4., 1.,\n",
       "       2., 5., 0., 0., 2., 2., 2., 3., 3., 5., 3., 0., 4., 2., 4., 2., 2.,\n",
       "       0., 1., 2., 1., 0., 2., 1., 1., 5., 5., 4., 6., 3., 6., 1., 3., 5.,\n",
       "       6., 4., 0., 3., 1., 6., 1., 1., 0., 4., 1., 3., 0., 6., 0., 4., 4.,\n",
       "       4., 1., 0., 1., 3., 6., 6., 3., 6., 0., 3., 5., 0., 6., 3., 4., 6.,\n",
       "       6., 2., 4., 2., 6., 0., 5., 0., 0., 0., 3., 2., 1., 1.])"
      ]
     },
     "execution_count": 40,
     "metadata": {},
     "output_type": "execute_result"
    }
   ],
   "source": [
    "knn_pred=model2.predict(x_test)\n",
    "knn_pred\n"
   ]
  },
  {
   "cell_type": "code",
   "execution_count": 41,
   "id": "7be3ca73",
   "metadata": {},
   "outputs": [
    {
     "name": "stdout",
     "output_type": "stream",
     "text": [
      "Average accuracy 97.39 %\n"
     ]
    }
   ],
   "source": [
    "score3=accuracy_score(knn_pred,y_test)\n",
    "print(\"Average accuracy\",score3.mean().round(4)*100,\"%\")\n"
   ]
  },
  {
   "cell_type": "code",
   "execution_count": 42,
   "id": "67189b32",
   "metadata": {},
   "outputs": [
    {
     "data": {
      "text/html": [
       "<style>#sk-container-id-4 {color: black;background-color: white;}#sk-container-id-4 pre{padding: 0;}#sk-container-id-4 div.sk-toggleable {background-color: white;}#sk-container-id-4 label.sk-toggleable__label {cursor: pointer;display: block;width: 100%;margin-bottom: 0;padding: 0.3em;box-sizing: border-box;text-align: center;}#sk-container-id-4 label.sk-toggleable__label-arrow:before {content: \"▸\";float: left;margin-right: 0.25em;color: #696969;}#sk-container-id-4 label.sk-toggleable__label-arrow:hover:before {color: black;}#sk-container-id-4 div.sk-estimator:hover label.sk-toggleable__label-arrow:before {color: black;}#sk-container-id-4 div.sk-toggleable__content {max-height: 0;max-width: 0;overflow: hidden;text-align: left;background-color: #f0f8ff;}#sk-container-id-4 div.sk-toggleable__content pre {margin: 0.2em;color: black;border-radius: 0.25em;background-color: #f0f8ff;}#sk-container-id-4 input.sk-toggleable__control:checked~div.sk-toggleable__content {max-height: 200px;max-width: 100%;overflow: auto;}#sk-container-id-4 input.sk-toggleable__control:checked~label.sk-toggleable__label-arrow:before {content: \"▾\";}#sk-container-id-4 div.sk-estimator input.sk-toggleable__control:checked~label.sk-toggleable__label {background-color: #d4ebff;}#sk-container-id-4 div.sk-label input.sk-toggleable__control:checked~label.sk-toggleable__label {background-color: #d4ebff;}#sk-container-id-4 input.sk-hidden--visually {border: 0;clip: rect(1px 1px 1px 1px);clip: rect(1px, 1px, 1px, 1px);height: 1px;margin: -1px;overflow: hidden;padding: 0;position: absolute;width: 1px;}#sk-container-id-4 div.sk-estimator {font-family: monospace;background-color: #f0f8ff;border: 1px dotted black;border-radius: 0.25em;box-sizing: border-box;margin-bottom: 0.5em;}#sk-container-id-4 div.sk-estimator:hover {background-color: #d4ebff;}#sk-container-id-4 div.sk-parallel-item::after {content: \"\";width: 100%;border-bottom: 1px solid gray;flex-grow: 1;}#sk-container-id-4 div.sk-label:hover label.sk-toggleable__label {background-color: #d4ebff;}#sk-container-id-4 div.sk-serial::before {content: \"\";position: absolute;border-left: 1px solid gray;box-sizing: border-box;top: 0;bottom: 0;left: 50%;z-index: 0;}#sk-container-id-4 div.sk-serial {display: flex;flex-direction: column;align-items: center;background-color: white;padding-right: 0.2em;padding-left: 0.2em;position: relative;}#sk-container-id-4 div.sk-item {position: relative;z-index: 1;}#sk-container-id-4 div.sk-parallel {display: flex;align-items: stretch;justify-content: center;background-color: white;position: relative;}#sk-container-id-4 div.sk-item::before, #sk-container-id-4 div.sk-parallel-item::before {content: \"\";position: absolute;border-left: 1px solid gray;box-sizing: border-box;top: 0;bottom: 0;left: 50%;z-index: -1;}#sk-container-id-4 div.sk-parallel-item {display: flex;flex-direction: column;z-index: 1;position: relative;background-color: white;}#sk-container-id-4 div.sk-parallel-item:first-child::after {align-self: flex-end;width: 50%;}#sk-container-id-4 div.sk-parallel-item:last-child::after {align-self: flex-start;width: 50%;}#sk-container-id-4 div.sk-parallel-item:only-child::after {width: 0;}#sk-container-id-4 div.sk-dashed-wrapped {border: 1px dashed gray;margin: 0 0.4em 0.5em 0.4em;box-sizing: border-box;padding-bottom: 0.4em;background-color: white;}#sk-container-id-4 div.sk-label label {font-family: monospace;font-weight: bold;display: inline-block;line-height: 1.2em;}#sk-container-id-4 div.sk-label-container {text-align: center;}#sk-container-id-4 div.sk-container {/* jupyter's `normalize.less` sets `[hidden] { display: none; }` but bootstrap.min.css set `[hidden] { display: none !important; }` so we also need the `!important` here to be able to override the default hidden behavior on the sphinx rendered scikit-learn.org. See: https://github.com/scikit-learn/scikit-learn/issues/21755 */display: inline-block !important;position: relative;}#sk-container-id-4 div.sk-text-repr-fallback {display: none;}</style><div id=\"sk-container-id-4\" class=\"sk-top-container\"><div class=\"sk-text-repr-fallback\"><pre>RandomForestClassifier()</pre><b>In a Jupyter environment, please rerun this cell to show the HTML representation or trust the notebook. <br />On GitHub, the HTML representation is unable to render, please try loading this page with nbviewer.org.</b></div><div class=\"sk-container\" hidden><div class=\"sk-item\"><div class=\"sk-estimator sk-toggleable\"><input class=\"sk-toggleable__control sk-hidden--visually\" id=\"sk-estimator-id-4\" type=\"checkbox\" checked><label for=\"sk-estimator-id-4\" class=\"sk-toggleable__label sk-toggleable__label-arrow\">RandomForestClassifier</label><div class=\"sk-toggleable__content\"><pre>RandomForestClassifier()</pre></div></div></div></div></div>"
      ],
      "text/plain": [
       "RandomForestClassifier()"
      ]
     },
     "execution_count": 42,
     "metadata": {},
     "output_type": "execute_result"
    }
   ],
   "source": [
    "from sklearn.ensemble import RandomForestClassifier\n",
    "r1=RandomForestClassifier()\n",
    "r1.fit(x_train,y_train)\n"
   ]
  },
  {
   "cell_type": "code",
   "execution_count": 43,
   "id": "c523e4aa",
   "metadata": {},
   "outputs": [
    {
     "data": {
      "text/plain": [
       "array([6., 5., 5., 3., 0., 4., 3., 3., 6., 5., 4., 5., 6., 1., 2., 1., 4.,\n",
       "       4., 6., 1., 0., 2., 3., 0., 4., 3., 1., 3., 2., 5., 2., 5., 0., 0.,\n",
       "       0., 1., 5., 4., 2., 2., 6., 0., 1., 0., 3., 2., 0., 5., 4., 6., 4.,\n",
       "       6., 1., 4., 2., 1., 3., 2., 3., 1., 2., 4., 1., 6., 0., 0., 0., 1.,\n",
       "       6., 1., 4., 6., 0., 5., 3., 6., 3., 1., 0., 2., 1., 4., 4., 5., 3.,\n",
       "       6., 2., 3., 1., 3., 2., 2., 2., 5., 2., 4., 6., 3., 1., 2., 3., 1.,\n",
       "       6., 2., 0., 3., 2., 1., 4., 3., 1., 1., 6., 2., 5., 5., 6., 2., 4.,\n",
       "       1., 6., 2., 3., 4., 1., 1., 0., 0., 6., 3., 4., 5., 1., 2., 3., 4.,\n",
       "       6., 6., 0., 4., 5., 6., 5., 6., 0., 2., 5., 3., 1., 2., 6., 6., 3.,\n",
       "       0., 6., 6., 5., 6., 5., 1., 5., 3., 6., 4., 3., 1., 1., 2., 5., 1.,\n",
       "       1., 2., 0., 0., 5., 0., 2., 5., 4., 3., 6., 5., 4., 5., 2., 5., 6.,\n",
       "       6., 2., 3., 2., 0., 3., 1., 0., 2., 4., 3., 2., 5., 0., 4., 0., 4.,\n",
       "       0., 6., 5., 1., 1., 5., 4., 1., 0., 4., 1., 0., 1., 0., 5., 4., 6.,\n",
       "       4., 3., 6., 1., 6., 6., 1., 1., 1., 2., 3., 2., 1., 0., 6., 0., 1.,\n",
       "       6., 6., 4., 3., 0., 5., 0., 6., 0., 4., 6., 4., 6., 5., 0., 2., 1.,\n",
       "       3., 2., 2., 4., 1., 5., 1., 3., 6., 3., 3., 6., 6., 6., 4., 4., 1.,\n",
       "       4., 1., 3., 3., 2., 0., 4., 6., 6., 4., 6., 0., 1., 0., 1., 0., 5.,\n",
       "       2., 0., 6., 3., 6., 4., 4., 1., 1., 0., 4., 2., 3., 4., 4., 6., 3.,\n",
       "       0., 4., 3., 2., 1., 3., 1., 6., 3., 5., 5., 2., 4., 3., 1., 1., 4.,\n",
       "       4., 3., 2., 2., 4., 3., 2., 6., 0., 5., 5., 5., 2., 5., 0., 4., 1.,\n",
       "       2., 5., 0., 0., 2., 2., 2., 3., 3., 5., 3., 0., 4., 2., 4., 2., 2.,\n",
       "       0., 1., 2., 1., 0., 2., 1., 1., 5., 5., 4., 6., 3., 6., 1., 3., 5.,\n",
       "       6., 4., 0., 3., 1., 6., 1., 1., 0., 4., 1., 3., 0., 6., 0., 4., 4.,\n",
       "       4., 1., 0., 1., 3., 6., 6., 3., 6., 0., 3., 5., 0., 6., 3., 4., 6.,\n",
       "       6., 2., 4., 5., 6., 0., 5., 0., 0., 0., 3., 2., 1., 1.])"
      ]
     },
     "execution_count": 43,
     "metadata": {},
     "output_type": "execute_result"
    }
   ],
   "source": [
    "rf_pred=r1.predict(x_test)\n",
    "rf_pred\n"
   ]
  },
  {
   "cell_type": "code",
   "execution_count": 44,
   "id": "8297fdc3",
   "metadata": {},
   "outputs": [
    {
     "name": "stdout",
     "output_type": "stream",
     "text": [
      "Average accuracy 99.29 %\n"
     ]
    }
   ],
   "source": [
    "score4=accuracy_score(rf_pred,y_test)\n",
    "print(\"Average accuracy\",score4.mean().round(4)*100,\"%\")\n"
   ]
  },
  {
   "cell_type": "code",
   "execution_count": 45,
   "id": "4c2400b1",
   "metadata": {},
   "outputs": [
    {
     "data": {
      "text/html": [
       "<style>#sk-container-id-5 {color: black;background-color: white;}#sk-container-id-5 pre{padding: 0;}#sk-container-id-5 div.sk-toggleable {background-color: white;}#sk-container-id-5 label.sk-toggleable__label {cursor: pointer;display: block;width: 100%;margin-bottom: 0;padding: 0.3em;box-sizing: border-box;text-align: center;}#sk-container-id-5 label.sk-toggleable__label-arrow:before {content: \"▸\";float: left;margin-right: 0.25em;color: #696969;}#sk-container-id-5 label.sk-toggleable__label-arrow:hover:before {color: black;}#sk-container-id-5 div.sk-estimator:hover label.sk-toggleable__label-arrow:before {color: black;}#sk-container-id-5 div.sk-toggleable__content {max-height: 0;max-width: 0;overflow: hidden;text-align: left;background-color: #f0f8ff;}#sk-container-id-5 div.sk-toggleable__content pre {margin: 0.2em;color: black;border-radius: 0.25em;background-color: #f0f8ff;}#sk-container-id-5 input.sk-toggleable__control:checked~div.sk-toggleable__content {max-height: 200px;max-width: 100%;overflow: auto;}#sk-container-id-5 input.sk-toggleable__control:checked~label.sk-toggleable__label-arrow:before {content: \"▾\";}#sk-container-id-5 div.sk-estimator input.sk-toggleable__control:checked~label.sk-toggleable__label {background-color: #d4ebff;}#sk-container-id-5 div.sk-label input.sk-toggleable__control:checked~label.sk-toggleable__label {background-color: #d4ebff;}#sk-container-id-5 input.sk-hidden--visually {border: 0;clip: rect(1px 1px 1px 1px);clip: rect(1px, 1px, 1px, 1px);height: 1px;margin: -1px;overflow: hidden;padding: 0;position: absolute;width: 1px;}#sk-container-id-5 div.sk-estimator {font-family: monospace;background-color: #f0f8ff;border: 1px dotted black;border-radius: 0.25em;box-sizing: border-box;margin-bottom: 0.5em;}#sk-container-id-5 div.sk-estimator:hover {background-color: #d4ebff;}#sk-container-id-5 div.sk-parallel-item::after {content: \"\";width: 100%;border-bottom: 1px solid gray;flex-grow: 1;}#sk-container-id-5 div.sk-label:hover label.sk-toggleable__label {background-color: #d4ebff;}#sk-container-id-5 div.sk-serial::before {content: \"\";position: absolute;border-left: 1px solid gray;box-sizing: border-box;top: 0;bottom: 0;left: 50%;z-index: 0;}#sk-container-id-5 div.sk-serial {display: flex;flex-direction: column;align-items: center;background-color: white;padding-right: 0.2em;padding-left: 0.2em;position: relative;}#sk-container-id-5 div.sk-item {position: relative;z-index: 1;}#sk-container-id-5 div.sk-parallel {display: flex;align-items: stretch;justify-content: center;background-color: white;position: relative;}#sk-container-id-5 div.sk-item::before, #sk-container-id-5 div.sk-parallel-item::before {content: \"\";position: absolute;border-left: 1px solid gray;box-sizing: border-box;top: 0;bottom: 0;left: 50%;z-index: -1;}#sk-container-id-5 div.sk-parallel-item {display: flex;flex-direction: column;z-index: 1;position: relative;background-color: white;}#sk-container-id-5 div.sk-parallel-item:first-child::after {align-self: flex-end;width: 50%;}#sk-container-id-5 div.sk-parallel-item:last-child::after {align-self: flex-start;width: 50%;}#sk-container-id-5 div.sk-parallel-item:only-child::after {width: 0;}#sk-container-id-5 div.sk-dashed-wrapped {border: 1px dashed gray;margin: 0 0.4em 0.5em 0.4em;box-sizing: border-box;padding-bottom: 0.4em;background-color: white;}#sk-container-id-5 div.sk-label label {font-family: monospace;font-weight: bold;display: inline-block;line-height: 1.2em;}#sk-container-id-5 div.sk-label-container {text-align: center;}#sk-container-id-5 div.sk-container {/* jupyter's `normalize.less` sets `[hidden] { display: none; }` but bootstrap.min.css set `[hidden] { display: none !important; }` so we also need the `!important` here to be able to override the default hidden behavior on the sphinx rendered scikit-learn.org. See: https://github.com/scikit-learn/scikit-learn/issues/21755 */display: inline-block !important;position: relative;}#sk-container-id-5 div.sk-text-repr-fallback {display: none;}</style><div id=\"sk-container-id-5\" class=\"sk-top-container\"><div class=\"sk-text-repr-fallback\"><pre>VotingClassifier(estimators=([&#x27;Logistic&#x27;, LogisticRegression()], [&#x27;SVM&#x27;, SVC()],\n",
       "                             [&#x27;KNN&#x27;, KNeighborsClassifier()],\n",
       "                             [&#x27;Random Forest&#x27;, RandomForestClassifier()]))</pre><b>In a Jupyter environment, please rerun this cell to show the HTML representation or trust the notebook. <br />On GitHub, the HTML representation is unable to render, please try loading this page with nbviewer.org.</b></div><div class=\"sk-container\" hidden><div class=\"sk-item sk-dashed-wrapped\"><div class=\"sk-label-container\"><div class=\"sk-label sk-toggleable\"><input class=\"sk-toggleable__control sk-hidden--visually\" id=\"sk-estimator-id-5\" type=\"checkbox\" ><label for=\"sk-estimator-id-5\" class=\"sk-toggleable__label sk-toggleable__label-arrow\">VotingClassifier</label><div class=\"sk-toggleable__content\"><pre>VotingClassifier(estimators=([&#x27;Logistic&#x27;, LogisticRegression()], [&#x27;SVM&#x27;, SVC()],\n",
       "                             [&#x27;KNN&#x27;, KNeighborsClassifier()],\n",
       "                             [&#x27;Random Forest&#x27;, RandomForestClassifier()]))</pre></div></div></div><div class=\"sk-parallel\"><div class=\"sk-parallel-item\"><div class=\"sk-item\"><div class=\"sk-label-container\"><div class=\"sk-label sk-toggleable\"><label>Logistic</label></div></div><div class=\"sk-serial\"><div class=\"sk-item\"><div class=\"sk-estimator sk-toggleable\"><input class=\"sk-toggleable__control sk-hidden--visually\" id=\"sk-estimator-id-6\" type=\"checkbox\" ><label for=\"sk-estimator-id-6\" class=\"sk-toggleable__label sk-toggleable__label-arrow\">LogisticRegression</label><div class=\"sk-toggleable__content\"><pre>LogisticRegression()</pre></div></div></div></div></div></div><div class=\"sk-parallel-item\"><div class=\"sk-item\"><div class=\"sk-label-container\"><div class=\"sk-label sk-toggleable\"><label>SVM</label></div></div><div class=\"sk-serial\"><div class=\"sk-item\"><div class=\"sk-estimator sk-toggleable\"><input class=\"sk-toggleable__control sk-hidden--visually\" id=\"sk-estimator-id-7\" type=\"checkbox\" ><label for=\"sk-estimator-id-7\" class=\"sk-toggleable__label sk-toggleable__label-arrow\">SVC</label><div class=\"sk-toggleable__content\"><pre>SVC()</pre></div></div></div></div></div></div><div class=\"sk-parallel-item\"><div class=\"sk-item\"><div class=\"sk-label-container\"><div class=\"sk-label sk-toggleable\"><label>KNN</label></div></div><div class=\"sk-serial\"><div class=\"sk-item\"><div class=\"sk-estimator sk-toggleable\"><input class=\"sk-toggleable__control sk-hidden--visually\" id=\"sk-estimator-id-8\" type=\"checkbox\" ><label for=\"sk-estimator-id-8\" class=\"sk-toggleable__label sk-toggleable__label-arrow\">KNeighborsClassifier</label><div class=\"sk-toggleable__content\"><pre>KNeighborsClassifier()</pre></div></div></div></div></div></div><div class=\"sk-parallel-item\"><div class=\"sk-item\"><div class=\"sk-label-container\"><div class=\"sk-label sk-toggleable\"><label>Random Forest</label></div></div><div class=\"sk-serial\"><div class=\"sk-item\"><div class=\"sk-estimator sk-toggleable\"><input class=\"sk-toggleable__control sk-hidden--visually\" id=\"sk-estimator-id-9\" type=\"checkbox\" ><label for=\"sk-estimator-id-9\" class=\"sk-toggleable__label sk-toggleable__label-arrow\">RandomForestClassifier</label><div class=\"sk-toggleable__content\"><pre>RandomForestClassifier()</pre></div></div></div></div></div></div></div></div></div></div>"
      ],
      "text/plain": [
       "VotingClassifier(estimators=(['Logistic', LogisticRegression()], ['SVM', SVC()],\n",
       "                             ['KNN', KNeighborsClassifier()],\n",
       "                             ['Random Forest', RandomForestClassifier()]))"
      ]
     },
     "execution_count": 45,
     "metadata": {},
     "output_type": "execute_result"
    }
   ],
   "source": [
    "## Ensemble Technique\n",
    "from sklearn.ensemble import VotingClassifier\n",
    "vote=VotingClassifier(estimators=([\"Logistic\",l],[\"SVM\",s1],[\"KNN\",k1],[\"Random Forest\",r1]))\n",
    "vote\n"
   ]
  },
  {
   "cell_type": "code",
   "execution_count": 46,
   "id": "b8f1cba6",
   "metadata": {},
   "outputs": [
    {
     "data": {
      "text/html": [
       "<style>#sk-container-id-6 {color: black;background-color: white;}#sk-container-id-6 pre{padding: 0;}#sk-container-id-6 div.sk-toggleable {background-color: white;}#sk-container-id-6 label.sk-toggleable__label {cursor: pointer;display: block;width: 100%;margin-bottom: 0;padding: 0.3em;box-sizing: border-box;text-align: center;}#sk-container-id-6 label.sk-toggleable__label-arrow:before {content: \"▸\";float: left;margin-right: 0.25em;color: #696969;}#sk-container-id-6 label.sk-toggleable__label-arrow:hover:before {color: black;}#sk-container-id-6 div.sk-estimator:hover label.sk-toggleable__label-arrow:before {color: black;}#sk-container-id-6 div.sk-toggleable__content {max-height: 0;max-width: 0;overflow: hidden;text-align: left;background-color: #f0f8ff;}#sk-container-id-6 div.sk-toggleable__content pre {margin: 0.2em;color: black;border-radius: 0.25em;background-color: #f0f8ff;}#sk-container-id-6 input.sk-toggleable__control:checked~div.sk-toggleable__content {max-height: 200px;max-width: 100%;overflow: auto;}#sk-container-id-6 input.sk-toggleable__control:checked~label.sk-toggleable__label-arrow:before {content: \"▾\";}#sk-container-id-6 div.sk-estimator input.sk-toggleable__control:checked~label.sk-toggleable__label {background-color: #d4ebff;}#sk-container-id-6 div.sk-label input.sk-toggleable__control:checked~label.sk-toggleable__label {background-color: #d4ebff;}#sk-container-id-6 input.sk-hidden--visually {border: 0;clip: rect(1px 1px 1px 1px);clip: rect(1px, 1px, 1px, 1px);height: 1px;margin: -1px;overflow: hidden;padding: 0;position: absolute;width: 1px;}#sk-container-id-6 div.sk-estimator {font-family: monospace;background-color: #f0f8ff;border: 1px dotted black;border-radius: 0.25em;box-sizing: border-box;margin-bottom: 0.5em;}#sk-container-id-6 div.sk-estimator:hover {background-color: #d4ebff;}#sk-container-id-6 div.sk-parallel-item::after {content: \"\";width: 100%;border-bottom: 1px solid gray;flex-grow: 1;}#sk-container-id-6 div.sk-label:hover label.sk-toggleable__label {background-color: #d4ebff;}#sk-container-id-6 div.sk-serial::before {content: \"\";position: absolute;border-left: 1px solid gray;box-sizing: border-box;top: 0;bottom: 0;left: 50%;z-index: 0;}#sk-container-id-6 div.sk-serial {display: flex;flex-direction: column;align-items: center;background-color: white;padding-right: 0.2em;padding-left: 0.2em;position: relative;}#sk-container-id-6 div.sk-item {position: relative;z-index: 1;}#sk-container-id-6 div.sk-parallel {display: flex;align-items: stretch;justify-content: center;background-color: white;position: relative;}#sk-container-id-6 div.sk-item::before, #sk-container-id-6 div.sk-parallel-item::before {content: \"\";position: absolute;border-left: 1px solid gray;box-sizing: border-box;top: 0;bottom: 0;left: 50%;z-index: -1;}#sk-container-id-6 div.sk-parallel-item {display: flex;flex-direction: column;z-index: 1;position: relative;background-color: white;}#sk-container-id-6 div.sk-parallel-item:first-child::after {align-self: flex-end;width: 50%;}#sk-container-id-6 div.sk-parallel-item:last-child::after {align-self: flex-start;width: 50%;}#sk-container-id-6 div.sk-parallel-item:only-child::after {width: 0;}#sk-container-id-6 div.sk-dashed-wrapped {border: 1px dashed gray;margin: 0 0.4em 0.5em 0.4em;box-sizing: border-box;padding-bottom: 0.4em;background-color: white;}#sk-container-id-6 div.sk-label label {font-family: monospace;font-weight: bold;display: inline-block;line-height: 1.2em;}#sk-container-id-6 div.sk-label-container {text-align: center;}#sk-container-id-6 div.sk-container {/* jupyter's `normalize.less` sets `[hidden] { display: none; }` but bootstrap.min.css set `[hidden] { display: none !important; }` so we also need the `!important` here to be able to override the default hidden behavior on the sphinx rendered scikit-learn.org. See: https://github.com/scikit-learn/scikit-learn/issues/21755 */display: inline-block !important;position: relative;}#sk-container-id-6 div.sk-text-repr-fallback {display: none;}</style><div id=\"sk-container-id-6\" class=\"sk-top-container\"><div class=\"sk-text-repr-fallback\"><pre>VotingClassifier(estimators=([&#x27;Logistic&#x27;, LogisticRegression()], [&#x27;SVM&#x27;, SVC()],\n",
       "                             [&#x27;KNN&#x27;, KNeighborsClassifier()],\n",
       "                             [&#x27;Random Forest&#x27;, RandomForestClassifier()]))</pre><b>In a Jupyter environment, please rerun this cell to show the HTML representation or trust the notebook. <br />On GitHub, the HTML representation is unable to render, please try loading this page with nbviewer.org.</b></div><div class=\"sk-container\" hidden><div class=\"sk-item sk-dashed-wrapped\"><div class=\"sk-label-container\"><div class=\"sk-label sk-toggleable\"><input class=\"sk-toggleable__control sk-hidden--visually\" id=\"sk-estimator-id-10\" type=\"checkbox\" ><label for=\"sk-estimator-id-10\" class=\"sk-toggleable__label sk-toggleable__label-arrow\">VotingClassifier</label><div class=\"sk-toggleable__content\"><pre>VotingClassifier(estimators=([&#x27;Logistic&#x27;, LogisticRegression()], [&#x27;SVM&#x27;, SVC()],\n",
       "                             [&#x27;KNN&#x27;, KNeighborsClassifier()],\n",
       "                             [&#x27;Random Forest&#x27;, RandomForestClassifier()]))</pre></div></div></div><div class=\"sk-parallel\"><div class=\"sk-parallel-item\"><div class=\"sk-item\"><div class=\"sk-label-container\"><div class=\"sk-label sk-toggleable\"><label>Logistic</label></div></div><div class=\"sk-serial\"><div class=\"sk-item\"><div class=\"sk-estimator sk-toggleable\"><input class=\"sk-toggleable__control sk-hidden--visually\" id=\"sk-estimator-id-11\" type=\"checkbox\" ><label for=\"sk-estimator-id-11\" class=\"sk-toggleable__label sk-toggleable__label-arrow\">LogisticRegression</label><div class=\"sk-toggleable__content\"><pre>LogisticRegression()</pre></div></div></div></div></div></div><div class=\"sk-parallel-item\"><div class=\"sk-item\"><div class=\"sk-label-container\"><div class=\"sk-label sk-toggleable\"><label>SVM</label></div></div><div class=\"sk-serial\"><div class=\"sk-item\"><div class=\"sk-estimator sk-toggleable\"><input class=\"sk-toggleable__control sk-hidden--visually\" id=\"sk-estimator-id-12\" type=\"checkbox\" ><label for=\"sk-estimator-id-12\" class=\"sk-toggleable__label sk-toggleable__label-arrow\">SVC</label><div class=\"sk-toggleable__content\"><pre>SVC()</pre></div></div></div></div></div></div><div class=\"sk-parallel-item\"><div class=\"sk-item\"><div class=\"sk-label-container\"><div class=\"sk-label sk-toggleable\"><label>KNN</label></div></div><div class=\"sk-serial\"><div class=\"sk-item\"><div class=\"sk-estimator sk-toggleable\"><input class=\"sk-toggleable__control sk-hidden--visually\" id=\"sk-estimator-id-13\" type=\"checkbox\" ><label for=\"sk-estimator-id-13\" class=\"sk-toggleable__label sk-toggleable__label-arrow\">KNeighborsClassifier</label><div class=\"sk-toggleable__content\"><pre>KNeighborsClassifier()</pre></div></div></div></div></div></div><div class=\"sk-parallel-item\"><div class=\"sk-item\"><div class=\"sk-label-container\"><div class=\"sk-label sk-toggleable\"><label>Random Forest</label></div></div><div class=\"sk-serial\"><div class=\"sk-item\"><div class=\"sk-estimator sk-toggleable\"><input class=\"sk-toggleable__control sk-hidden--visually\" id=\"sk-estimator-id-14\" type=\"checkbox\" ><label for=\"sk-estimator-id-14\" class=\"sk-toggleable__label sk-toggleable__label-arrow\">RandomForestClassifier</label><div class=\"sk-toggleable__content\"><pre>RandomForestClassifier()</pre></div></div></div></div></div></div></div></div></div></div>"
      ],
      "text/plain": [
       "VotingClassifier(estimators=(['Logistic', LogisticRegression()], ['SVM', SVC()],\n",
       "                             ['KNN', KNeighborsClassifier()],\n",
       "                             ['Random Forest', RandomForestClassifier()]))"
      ]
     },
     "execution_count": 46,
     "metadata": {},
     "output_type": "execute_result"
    }
   ],
   "source": [
    "vote_model=vote.fit(x_train,y_train)\n",
    "vote_model\n"
   ]
  },
  {
   "cell_type": "code",
   "execution_count": 47,
   "id": "a17cd9b7",
   "metadata": {},
   "outputs": [
    {
     "data": {
      "text/plain": [
       "array([6., 5., 5., 3., 0., 4., 3., 3., 6., 5., 4., 5., 6., 1., 2., 1., 4.,\n",
       "       4., 6., 1., 0., 2., 3., 0., 4., 3., 1., 3., 2., 5., 2., 5., 0., 0.,\n",
       "       0., 1., 5., 4., 2., 2., 6., 0., 1., 0., 3., 2., 0., 5., 4., 6., 4.,\n",
       "       6., 1., 4., 2., 1., 3., 2., 3., 1., 2., 4., 1., 6., 0., 0., 0., 1.,\n",
       "       6., 1., 4., 6., 0., 5., 3., 6., 3., 1., 0., 2., 1., 4., 4., 5., 3.,\n",
       "       6., 2., 3., 1., 3., 2., 2., 2., 0., 2., 4., 6., 3., 1., 2., 3., 1.,\n",
       "       6., 2., 0., 3., 2., 1., 4., 3., 1., 1., 6., 2., 5., 1., 6., 2., 4.,\n",
       "       1., 6., 2., 3., 4., 1., 1., 0., 0., 6., 3., 4., 5., 1., 2., 3., 4.,\n",
       "       6., 6., 0., 4., 5., 6., 5., 6., 0., 2., 5., 2., 1., 2., 6., 6., 3.,\n",
       "       0., 6., 6., 5., 6., 5., 1., 1., 3., 6., 4., 3., 1., 1., 2., 5., 1.,\n",
       "       1., 2., 0., 0., 5., 0., 2., 5., 4., 3., 6., 5., 4., 5., 2., 5., 6.,\n",
       "       6., 2., 3., 2., 0., 3., 1., 0., 2., 4., 3., 2., 5., 0., 4., 0., 4.,\n",
       "       0., 6., 5., 1., 1., 5., 4., 1., 0., 4., 1., 0., 1., 0., 5., 4., 6.,\n",
       "       4., 3., 6., 1., 6., 6., 1., 1., 1., 2., 3., 2., 1., 0., 6., 0., 1.,\n",
       "       6., 6., 4., 3., 0., 1., 0., 6., 0., 4., 6., 4., 6., 5., 0., 2., 1.,\n",
       "       3., 2., 2., 4., 1., 5., 1., 3., 6., 3., 3., 6., 6., 6., 4., 4., 1.,\n",
       "       4., 1., 3., 3., 2., 0., 4., 6., 6., 4., 6., 0., 1., 0., 1., 0., 5.,\n",
       "       2., 0., 6., 3., 6., 4., 4., 1., 1., 0., 4., 2., 3., 4., 4., 6., 3.,\n",
       "       0., 4., 2., 2., 1., 3., 1., 6., 3., 5., 5., 2., 4., 2., 1., 1., 4.,\n",
       "       4., 3., 2., 2., 4., 3., 2., 6., 0., 5., 5., 5., 2., 5., 0., 4., 1.,\n",
       "       2., 5., 0., 0., 2., 2., 2., 3., 3., 5., 3., 0., 4., 2., 4., 2., 2.,\n",
       "       0., 1., 2., 1., 0., 2., 1., 1., 1., 5., 4., 6., 3., 6., 1., 3., 5.,\n",
       "       6., 4., 0., 3., 1., 6., 1., 1., 0., 4., 1., 3., 0., 6., 0., 4., 4.,\n",
       "       4., 1., 0., 1., 3., 6., 6., 3., 6., 0., 3., 5., 0., 6., 3., 4., 6.,\n",
       "       6., 2., 4., 5., 6., 0., 5., 0., 0., 0., 3., 2., 1., 1.])"
      ]
     },
     "execution_count": 47,
     "metadata": {},
     "output_type": "execute_result"
    }
   ],
   "source": [
    "vote_pred=vote_model.predict(x_test)\n",
    "vote_pred\n"
   ]
  },
  {
   "cell_type": "code",
   "execution_count": 48,
   "id": "0e236259",
   "metadata": {},
   "outputs": [
    {
     "name": "stdout",
     "output_type": "stream",
     "text": [
      "Average accuracy 97.39 %\n"
     ]
    }
   ],
   "source": [
    "score5=accuracy_score(vote_pred,y_test)\n",
    "print(\"Average accuracy\",score5.mean().round(4)*100,\"%\")\n"
   ]
  },
  {
   "cell_type": "code",
   "execution_count": 49,
   "id": "bcb8e454",
   "metadata": {},
   "outputs": [
    {
     "data": {
      "text/html": [
       "<div>\n",
       "<style scoped>\n",
       "    .dataframe tbody tr th:only-of-type {\n",
       "        vertical-align: middle;\n",
       "    }\n",
       "\n",
       "    .dataframe tbody tr th {\n",
       "        vertical-align: top;\n",
       "    }\n",
       "\n",
       "    .dataframe thead th {\n",
       "        text-align: right;\n",
       "    }\n",
       "</style>\n",
       "<table border=\"1\" class=\"dataframe\">\n",
       "  <thead>\n",
       "    <tr style=\"text-align: right;\">\n",
       "      <th></th>\n",
       "      <th>Actual Y</th>\n",
       "      <th>Logistic</th>\n",
       "      <th>SVM</th>\n",
       "      <th>KNN</th>\n",
       "      <th>RandomForest</th>\n",
       "      <th>Cross Validation</th>\n",
       "      <th>Voting</th>\n",
       "    </tr>\n",
       "  </thead>\n",
       "  <tbody>\n",
       "    <tr>\n",
       "      <th>0</th>\n",
       "      <td>6.0</td>\n",
       "      <td>6.0</td>\n",
       "      <td>6.0</td>\n",
       "      <td>6.0</td>\n",
       "      <td>6.0</td>\n",
       "      <td>6.0</td>\n",
       "      <td>6.0</td>\n",
       "    </tr>\n",
       "    <tr>\n",
       "      <th>1</th>\n",
       "      <td>5.0</td>\n",
       "      <td>5.0</td>\n",
       "      <td>5.0</td>\n",
       "      <td>5.0</td>\n",
       "      <td>5.0</td>\n",
       "      <td>5.0</td>\n",
       "      <td>5.0</td>\n",
       "    </tr>\n",
       "    <tr>\n",
       "      <th>2</th>\n",
       "      <td>5.0</td>\n",
       "      <td>1.0</td>\n",
       "      <td>5.0</td>\n",
       "      <td>5.0</td>\n",
       "      <td>5.0</td>\n",
       "      <td>1.0</td>\n",
       "      <td>5.0</td>\n",
       "    </tr>\n",
       "    <tr>\n",
       "      <th>3</th>\n",
       "      <td>3.0</td>\n",
       "      <td>3.0</td>\n",
       "      <td>3.0</td>\n",
       "      <td>3.0</td>\n",
       "      <td>3.0</td>\n",
       "      <td>3.0</td>\n",
       "      <td>3.0</td>\n",
       "    </tr>\n",
       "    <tr>\n",
       "      <th>4</th>\n",
       "      <td>0.0</td>\n",
       "      <td>0.0</td>\n",
       "      <td>0.0</td>\n",
       "      <td>0.0</td>\n",
       "      <td>0.0</td>\n",
       "      <td>0.0</td>\n",
       "      <td>0.0</td>\n",
       "    </tr>\n",
       "    <tr>\n",
       "      <th>...</th>\n",
       "      <td>...</td>\n",
       "      <td>...</td>\n",
       "      <td>...</td>\n",
       "      <td>...</td>\n",
       "      <td>...</td>\n",
       "      <td>...</td>\n",
       "      <td>...</td>\n",
       "    </tr>\n",
       "    <tr>\n",
       "      <th>417</th>\n",
       "      <td>0.0</td>\n",
       "      <td>0.0</td>\n",
       "      <td>0.0</td>\n",
       "      <td>0.0</td>\n",
       "      <td>0.0</td>\n",
       "      <td>0.0</td>\n",
       "      <td>0.0</td>\n",
       "    </tr>\n",
       "    <tr>\n",
       "      <th>418</th>\n",
       "      <td>3.0</td>\n",
       "      <td>3.0</td>\n",
       "      <td>3.0</td>\n",
       "      <td>3.0</td>\n",
       "      <td>3.0</td>\n",
       "      <td>3.0</td>\n",
       "      <td>3.0</td>\n",
       "    </tr>\n",
       "    <tr>\n",
       "      <th>419</th>\n",
       "      <td>2.0</td>\n",
       "      <td>2.0</td>\n",
       "      <td>2.0</td>\n",
       "      <td>2.0</td>\n",
       "      <td>2.0</td>\n",
       "      <td>2.0</td>\n",
       "      <td>2.0</td>\n",
       "    </tr>\n",
       "    <tr>\n",
       "      <th>420</th>\n",
       "      <td>1.0</td>\n",
       "      <td>1.0</td>\n",
       "      <td>1.0</td>\n",
       "      <td>1.0</td>\n",
       "      <td>1.0</td>\n",
       "      <td>1.0</td>\n",
       "      <td>1.0</td>\n",
       "    </tr>\n",
       "    <tr>\n",
       "      <th>421</th>\n",
       "      <td>1.0</td>\n",
       "      <td>1.0</td>\n",
       "      <td>1.0</td>\n",
       "      <td>1.0</td>\n",
       "      <td>1.0</td>\n",
       "      <td>1.0</td>\n",
       "      <td>1.0</td>\n",
       "    </tr>\n",
       "  </tbody>\n",
       "</table>\n",
       "<p>422 rows × 7 columns</p>\n",
       "</div>"
      ],
      "text/plain": [
       "     Actual Y  Logistic  SVM  KNN  RandomForest  Cross Validation  Voting\n",
       "0         6.0       6.0  6.0  6.0           6.0               6.0     6.0\n",
       "1         5.0       5.0  5.0  5.0           5.0               5.0     5.0\n",
       "2         5.0       1.0  5.0  5.0           5.0               1.0     5.0\n",
       "3         3.0       3.0  3.0  3.0           3.0               3.0     3.0\n",
       "4         0.0       0.0  0.0  0.0           0.0               0.0     0.0\n",
       "..        ...       ...  ...  ...           ...               ...     ...\n",
       "417       0.0       0.0  0.0  0.0           0.0               0.0     0.0\n",
       "418       3.0       3.0  3.0  3.0           3.0               3.0     3.0\n",
       "419       2.0       2.0  2.0  2.0           2.0               2.0     2.0\n",
       "420       1.0       1.0  1.0  1.0           1.0               1.0     1.0\n",
       "421       1.0       1.0  1.0  1.0           1.0               1.0     1.0\n",
       "\n",
       "[422 rows x 7 columns]"
      ]
     },
     "execution_count": 49,
     "metadata": {},
     "output_type": "execute_result"
    }
   ],
   "source": [
    "Prediction=pd.DataFrame({\"Actual Y\":y_test,\"Logistic\":log_pred,\"SVM\":svm_pred,\"KNN\":knn_pred,\"RandomForest\":rf_pred,\"Cross Validation\":cv_pred,\"Voting\":vote_pred})\n",
    "Prediction\n"
   ]
  },
  {
   "cell_type": "code",
   "execution_count": null,
   "id": "8a7682d3",
   "metadata": {},
   "outputs": [],
   "source": []
  }
 ],
 "metadata": {
  "kernelspec": {
   "display_name": "Python 3 (ipykernel)",
   "language": "python",
   "name": "python3"
  },
  "language_info": {
   "codemirror_mode": {
    "name": "ipython",
    "version": 3
   },
   "file_extension": ".py",
   "mimetype": "text/x-python",
   "name": "python",
   "nbconvert_exporter": "python",
   "pygments_lexer": "ipython3",
   "version": "3.9.7"
  }
 },
 "nbformat": 4,
 "nbformat_minor": 5
}
